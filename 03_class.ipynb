{
 "cells": [
  {
   "cell_type": "markdown",
   "id": "3d5668fc",
   "metadata": {},
   "source": [
    "## 함수 vs 클래스\n",
    "\n",
    "### 왜 클래스가 필요한가?\n",
    "- **함수**  \n",
    "  - 독립된 **입력 → 처리 → 출력** 과정만 묶어 줌  \n",
    "  - 예:  \n",
    "    ```python\n",
    "    def fetch_weather(city):\n",
    "        # 입력: city\n",
    "        # 처리: API 호출\n",
    "        # 출력: 날씨 정보 반환\n",
    "        ...\n",
    "    ```\n",
    "\n",
    "- **클래스**  \n",
    "  - **데이터(속성)**와 **함수(메소드)**를 한 덩어리(객체)로 묶어 관리  \n",
    "  - **상태 유지 가능**  \n",
    "    - 예: API 키, 설정, 연결 상태 등을 객체 속성에 저장  \n",
    "  - **재사용·확장성**  \n",
    "    - 상속을 통해 기존 기능을 손쉽게 확장  \n",
    "\n",
    "---\n",
    "\n",
    "### 핵심\n",
    "- **상태(데이터) + 동작(함수)의 묶음**  \n",
    "- **함수만 사용했을 때**  \n",
    "  - **상태 유지 불가**: 호출할 때마다 필요한 설정을 매번 전달하거나 전역 변수에 의존해야 함  \n",
    "- **클래스 사용 시**  \n",
    "  - 객체 생성 후 **속성에 상태 보관** → 여러 메소드에서 공유  \n",
    "  - **상속/다형성** 활용 → 기능 확장 및 유지보수 용이  \n"
   ]
  },
  {
   "cell_type": "markdown",
   "id": "e134c608",
   "metadata": {},
   "source": [
    "함수만 사용했을 때 (상태 유지 불가)\n",
    "```python\n",
    "# 매번 API 키를 일일이 넘겨줘야 함\n",
    "def fetch_weather(api_key, city):\n",
    "    # …외부 호출\n",
    "    return f\"{city} 날씨 데이터 (키: {api_key})\"\n",
    "\n",
    "# 사용 시\n",
    "api_key = \"ABC123\"\n",
    "print(fetch_weather(api_key, \"Seoul\"))\n",
    "print(fetch_weather(api_key, \"Busan\"))\n",
    "\n",
    "불편한 점: \n",
    "api_key를 매번 함수에 넘겨줘야 한다. \n",
    "여러 설정(언어, 단위, 시간대 등)이 생기면, 매번 인자가 길어진다."
   ]
  },
  {
   "cell_type": "markdown",
   "id": "9126f476",
   "metadata": {},
   "source": [
    "클래스 사용 (상태 유지 가능)\n",
    "```python\n",
    "class WeatherClient:\n",
    "    def __init__(self, api_key):\n",
    "        # 한 번만 저장해 두면, 모든 메소드에서 꺼내 써도 된다\n",
    "        self.api_key = api_key\n",
    "\n",
    "    def fetch(self, city):\n",
    "        # self.api_key에 저장된 값을 바로 사용\n",
    "        return f\"{city} 날씨 데이터 (키: {self.api_key})\"\n",
    "\n",
    "# 사용 시\n",
    "client = WeatherClient(\"ABC123\")\n",
    "print(client.fetch(\"Seoul\"))\n",
    "print(client.fetch(\"Busan\"))\n",
    "\n",
    "장점:\n",
    "1. api_key는 client 객체 내부에 저장(state) → 메소드 호출만 하면 된다.\n",
    "2. 추가 설정(language, unit 등)도 self.language, self.unit으로 한 곳에 모아 관리 가능"
   ]
  },
  {
   "cell_type": "markdown",
   "id": "e0482f8f",
   "metadata": {
    "vscode": {
     "languageId": "plaintext"
    }
   },
   "source": [
    "## 상속을 통한 코드 재사용 및 확장"
   ]
  },
  {
   "cell_type": "markdown",
   "id": "9bf788d7",
   "metadata": {},
   "source": [
    "상속이 없을 때 (코드 중복)\n",
    "```python\n",
    "class WeatherClient:\n",
    "    def __init__(self, api_key):\n",
    "        self.api_key = api_key\n",
    "    def fetch(self, city):\n",
    "        return f\"{city} 날씨 데이터 (키: {self.api_key})\"\n",
    "\n",
    "class NewsClient:\n",
    "    def __init__(self, api_key):\n",
    "        self.api_key = api_key\n",
    "    def fetch(self, topic):\n",
    "        return f\"{topic} 뉴스 데이터 (키: {self.api_key})\"\n",
    "\n",
    "__init__과 self.api_key 관리 코드가 두 곳에 똑같이 반복됨\n",
    "\n",
    "새 기능(예: self.language 추가)을 넣으려면 두 클래스 모두 수정해야 함"
   ]
  },
  {
   "cell_type": "markdown",
   "id": "5dd042f1",
   "metadata": {},
   "source": [
    "```python\n",
    "# 1) 공통 기능은 부모 클래스에\n",
    "class APIClient:\n",
    "    def __init__(self, api_key):\n",
    "        self.api_key = api_key\n",
    "\n",
    "# 2) 날씨 전용, 뉴스 전용은 필요한 부분만 구현\n",
    "class WeatherClient(APIClient):\n",
    "    def fetch(self, city):\n",
    "        return f\"{city} 날씨 데이터 (키: {self.api_key})\"\n",
    "\n",
    "class NewsClient(APIClient):\n",
    "    def fetch(self, topic):\n",
    "        return f\"{topic} 뉴스 데이터 (키: {self.api_key})\"\n",
    "\n",
    "# 사용 시\n",
    "wc = WeatherClient(\"KEY1\")\n",
    "nc = NewsClient(\"KEY2\")\n",
    "print(wc.fetch(\"Seoul\"))\n",
    "print(nc.fetch(\"AI\"))\n",
    "\n",
    "장점:\n",
    "\n",
    "APIClient.__init__에만 self.api_key 저장 로직이 있다\n",
    "\n",
    "부모를 바꾸거나 확장하면(예: self.language 추가) → 하위 클래스 전부에 자동으로 적용\n",
    "\n",
    "유지보수가 훨씬 쉽고, 코드 중복이 사라진다"
   ]
  },
  {
   "cell_type": "markdown",
   "id": "1a1a0e5a",
   "metadata": {},
   "source": [
    "- 함수는 호출될 때마다 필요한 데이터를 넘겨줘야 하고, 상태를 기억하지 못함  \n",
    "- **함수의 실행 환경(스코프)**  \n",
    "  - 함수를 호출하면 내부에 있는 지역 변수들은 그 함수 호출이 끝남과 동시에 삭제됩니다.  \n",
    "  - 다음에 같은 함수를 다시 호출하면, 완전히 새롭게 “빈” 환경(스택 프레임)이 만들어져 그 안에서만 실행됩니다.  \n"
   ]
  },
  {
   "cell_type": "code",
   "execution_count": 8,
   "id": "bd438f6b",
   "metadata": {},
   "outputs": [
    {
     "name": "stdout",
     "output_type": "stream",
     "text": [
      "1\n",
      "1\n"
     ]
    }
   ],
   "source": [
    "def counter_func():\n",
    "    count = 0    # 이 변수는 매번 함수가 시작될 때 새로 만들어짐\n",
    "    count += 1\n",
    "    print(count)\n",
    "\n",
    "counter_func()  # 1\n",
    "counter_func()  # 1 (다시 0부터 시작)\n"
   ]
  },
  {
   "cell_type": "markdown",
   "id": "6bad2ca4",
   "metadata": {},
   "source": [
    "## count가 함수가 끝나면 사라지기 때문에, 호출할 때마다 0부터 다시 시작합니다."
   ]
  },
  {
   "cell_type": "markdown",
   "id": "27870b56",
   "metadata": {},
   "source": [
    "- 함수에 상태를 유지하려면  \n",
    "  - 전역 변수를 쓰거나  \n",
    "  - 클래스의 인스턴스 변수(객체의 `self.x`)에 값을 저장해야 합니다.  \n"
   ]
  },
  {
   "cell_type": "code",
   "execution_count": 9,
   "id": "9b6128ec",
   "metadata": {},
   "outputs": [
    {
     "name": "stdout",
     "output_type": "stream",
     "text": [
      "1\n",
      "2\n",
      "1\n",
      "2\n"
     ]
    }
   ],
   "source": [
    "# 전역 변수 이용 예\n",
    "count = 0\n",
    "def counter_func2():\n",
    "    global count\n",
    "    count += 1\n",
    "    print(count)\n",
    "\n",
    "counter_func2()  # 1\n",
    "counter_func2()  # 2\n",
    "\n",
    "# 클래스 이용 예\n",
    "class Counter:\n",
    "    def __init__(self):\n",
    "        self.count = 0\n",
    "    def increment(self):\n",
    "        self.count += 1\n",
    "        print(self.count)\n",
    "\n",
    "c = Counter()\n",
    "c.increment()   # 1\n",
    "c.increment()   # 2\n"
   ]
  },
  {
   "cell_type": "markdown",
   "id": "00a67cdf",
   "metadata": {},
   "source": [
    "- 일반 함수는 호출될 때마다 새로 시작되는 “독립된 공간”에서 실행되므로, 이전 호출의 값을 기억할 수 없습니다.  \n",
    "- **객체(클래스 인스턴스)**는 `self` 아래에 속성으로 값을 저장해 두고, 메소드 간에 공유하며 “상태를 유지”할 수 있습니다.  \n"
   ]
  },
  {
   "cell_type": "code",
   "execution_count": 3,
   "id": "96920c5d",
   "metadata": {},
   "outputs": [
    {
     "name": "stdout",
     "output_type": "stream",
     "text": [
      "홍길동님, 입금 후 잔액은 1500원입니다.\n",
      "홍길동님, 출금 후 잔액은 1300원입니다.\n",
      "1300\n"
     ]
    }
   ],
   "source": [
    "class BankAccount:\n",
    "    def __init__(self, owner, balance=0):\n",
    "        # 생성자에서 초기 상태 설정: 소유자(owner)와 잔액(balance)을 저장\n",
    "        self.owner = owner\n",
    "        self.balance = balance\n",
    "\n",
    "    def deposit(self, amount):\n",
    "        # 입금할 때마다 balance를 업데이트 → 상태 유지\n",
    "        self.balance += amount\n",
    "        print(f\"{self.owner}님, 입금 후 잔액은 {self.balance}원입니다.\")\n",
    "\n",
    "    def withdraw(self, amount):\n",
    "        # 출금할 때에도 balance를 업데이트\n",
    "        if amount > self.balance:\n",
    "            print(\"잔액이 부족합니다!\")\n",
    "        else:\n",
    "            self.balance -= amount\n",
    "            print(f\"{self.owner}님, 출금 후 잔액은 {self.balance}원입니다.\")\n",
    "\n",
    "    def get_balance(self):\n",
    "        # 현재 상태(잔액)를 조회\n",
    "        return self.balance\n",
    "\n",
    "# 사용 예시\n",
    "account = BankAccount(\"홍길동\", 1000)\n",
    "account.deposit(500)       # 입금 후 balance = 1500\n",
    "account.withdraw(200)      # 출금 후 balance = 1300\n",
    "print(account.get_balance())  # 1300\n"
   ]
  },
  {
   "cell_type": "markdown",
   "id": "8dc4d693",
   "metadata": {},
   "source": [
    "- `__init__`에서 `self.balance = balance`로 잔액을 저장  \n",
    "- `deposit()`과 `withdraw()`가 호출될 때마다  \n",
    "  - 같은 `self.balance` 속성에 접근해 값을 증가/감소  \n",
    "  - 이전에 저장된 잔액 상태를 유지한 채로 동작  \n",
    "- `get_balance()`로 언제든 현재 상태(잔액)를 확인 가능  \n",
    "\n",
    "이처럼, 객체는 `self.xxx` 형태의 속성에 데이터를 저장해 두고, 여러 메소드가 이 데이터를 읽고 변경하면서 **상태를 유지**합니다.  \n",
    "함수만 쓰면 매번 외부에서 잔액을 넘겨줘야 하지만, 클래스에서는 한 번만 초기화해 두면 내부에서 스스로 기억해서 편리합니다.  \n"
   ]
  },
  {
   "cell_type": "code",
   "execution_count": 4,
   "id": "6b91242d",
   "metadata": {},
   "outputs": [
    {
     "name": "stdout",
     "output_type": "stream",
     "text": [
      "현재 카운트: 1\n",
      "현재 카운트: 2\n"
     ]
    }
   ],
   "source": [
    "# 전역 변수 사용\n",
    "count = 0\n",
    "\n",
    "def increment():\n",
    "    global count\n",
    "    count += 1\n",
    "    print(\"현재 카운트:\", count)\n",
    "\n",
    "increment()  # 1\n",
    "increment()  # 2\n"
   ]
  },
  {
   "cell_type": "markdown",
   "id": "970857a1",
   "metadata": {},
   "source": [
    "- `count`를 전역으로 선언해 두고, 함수 안에서 `global count`를 쓰면 호출할 때마다 `count`가 유지됩니다.  \n"
   ]
  },
  {
   "cell_type": "markdown",
   "id": "016a8333",
   "metadata": {},
   "source": [
    "- **global의 단점**  \n",
    "  - 의도치 않은 변경 위험  \n",
    "  - 코드 아무 곳에서 `count = ...` 나 `global count`를 쓰면, 전역 값을 덮어써 버릴 수 있어 예측하기 어려워집니다.  \n"
   ]
  },
  {
   "cell_type": "code",
   "execution_count": 5,
   "id": "5f14560e",
   "metadata": {},
   "outputs": [
    {
     "name": "stdout",
     "output_type": "stream",
     "text": [
      "1\n",
      "-998\n"
     ]
    }
   ],
   "source": [
    "count = 0\n",
    "\n",
    "def increment():\n",
    "    global count\n",
    "    count += 1\n",
    "\n",
    "def reset():\n",
    "    # 실수로 count를 직접 덮어써 버림\n",
    "    global count\n",
    "    count = -999\n",
    "\n",
    "increment()\n",
    "print(count)  # 1\n",
    "reset()\n",
    "increment()\n",
    "print(count)  # -998  ← reset() 때문에 이상한 값이 됨\n"
   ]
  },
  {
   "cell_type": "markdown",
   "id": "61b1a286",
   "metadata": {},
   "source": [
    "- `reset()`가 전역을 마음대로 바꿔 버려, 다른 함수 동작이 예측 불가능해집니다.\n"
   ]
  },
  {
   "cell_type": "markdown",
   "id": "67124aee",
   "metadata": {},
   "source": [
    "- **테스트·디버깅이 어려움**  \n",
    "  - 함수 하나만 떼어내서 단위 테스트할 때, 전역 상태(`count`)를 초기화·정리하는 추가 코드가 필요해집니다.  \n"
   ]
  },
  {
   "cell_type": "code",
   "execution_count": 6,
   "id": "8a8b1fe8",
   "metadata": {},
   "outputs": [],
   "source": [
    "count = 0\n",
    "\n",
    "def increment():\n",
    "    global count\n",
    "    count += 1\n",
    "    return count\n",
    "\n",
    "# 단위 테스트\n",
    "def test_increment():\n",
    "    assert increment() == 1\n",
    "    assert increment() == 2\n",
    "    # 다음 테스트에서 count가 초기화되지 않으면 실패!\n"
   ]
  },
  {
   "cell_type": "markdown",
   "id": "551f53be",
   "metadata": {},
   "source": [
    "- 테스트가 `count` 초기화 없이 이어지면, 매번 테스트 전에 `count = 0`을 수동으로 해 줘야 합니다.  \n"
   ]
  },
  {
   "cell_type": "markdown",
   "id": "f5ebe66f",
   "metadata": {},
   "source": [
    "- **유연성·재사용성 저하**  \n",
    "  - 전역 값에 의존하는 함수는 “그 값이 있어야만” 제대로 동작  \n",
    "  - 다른 키나 추가 설정을 함께 쓰고 싶어도, 전역 변수만 바꿔 주면 모든 함수가 영향을 받아 버립니다.  \n"
   ]
  },
  {
   "cell_type": "code",
   "execution_count": 7,
   "id": "4bce19d3",
   "metadata": {},
   "outputs": [
    {
     "name": "stdout",
     "output_type": "stream",
     "text": [
      "HELLO\n"
     ]
    }
   ],
   "source": [
    "# 전역 설정 의존 함수\n",
    "config_mode = \"A\"\n",
    "\n",
    "def process(data):\n",
    "    if config_mode == \"A\":\n",
    "        return data.lower()\n",
    "    else:\n",
    "        return data.upper()\n",
    "\n",
    "# 다른 모드로 처리하려면 매번 전역을 바꿔야 함\n",
    "config_mode = \"B\"\n",
    "print(process(\"Hello\"))  # HELLO\n"
   ]
  },
  {
   "cell_type": "markdown",
   "id": "809ef729",
   "metadata": {},
   "source": [
    "- 함수 호출 시마다 다른 설정을 쓰려면, 전역을 바꿔야 해서 여러 설정을 동시에 쓰기 어렵습니다.  \n"
   ]
  },
  {
   "cell_type": "markdown",
   "id": "0475c20f",
   "metadata": {},
   "source": [
    "- **이름 충돌 (Name Collision)**\n",
    "  - 프로젝트 규모가 커지면 전역 이름(`count`, `config` 등)이 겹칠 우려가 커집니다.  \n"
   ]
  },
  {
   "cell_type": "markdown",
   "id": "7fdeaefd",
   "metadata": {},
   "source": [
    "```python\n",
    "# module_a.py\n",
    "count = 0\n",
    "def func_a(): ...\n",
    "\n",
    "# module_b.py\n",
    "count = 100\n",
    "def func_b(): ...\n",
    "\n",
    "# main.py\n",
    "from module_a import *\n",
    "from module_b import *\n",
    "\n",
    "print(count)  # 100 또는 0? 어느 module의 count인지 헷갈림\n",
    "\n",
    "- 프로젝트가 커지면, 동일한 전역 이름이 여러 곳에 정의되어\n",
    "\n",
    "- import * 같은 구문에서 의도치 않은 덮어쓰기가 발생할 수 있습니다.\n"
   ]
  },
  {
   "cell_type": "markdown",
   "id": "3d800885",
   "metadata": {},
   "source": [
    "- 프로젝트가 커지면, 동일한 전역 이름이 여러 곳에 정의되어 `import *` 같은 구문에서 의도치 않은 덮어쓰기가 발생할 수 있습니다.  \n"
   ]
  },
  {
   "cell_type": "code",
   "execution_count": 11,
   "id": "a2f7e62e",
   "metadata": {},
   "outputs": [
    {
     "name": "stdout",
     "output_type": "stream",
     "text": [
      "현재 카운트: 1\n",
      "현재 카운트: 2\n",
      "현재 카운트: 1\n"
     ]
    }
   ],
   "source": [
    "class Counter:\n",
    "    def __init__(self):\n",
    "        self.count = 0\n",
    "\n",
    "    def increment(self):\n",
    "        self.count += 1\n",
    "        print(\"현재 카운트:\", self.count)\n",
    "\n",
    "# 전역 없이도 상태 유지\n",
    "c1 = Counter()\n",
    "c2 = Counter()\n",
    "\n",
    "c1.increment()  # 1\n",
    "c1.increment()  # 2\n",
    "\n",
    "c2.increment()  # 1  (c1과 독립적)\n"
   ]
  },
  {
   "cell_type": "markdown",
   "id": "8e0fd77b",
   "metadata": {},
   "source": [
    "- 이처럼 전역 변수는 편해 보이지만, 실제로는 **예측 불가능성**, **테스트 난이도**, **유연성 저하**, **이름 충돌** 등의 심각한 문제를 일으킬 수 있습니다.  \n",
    "- **클래스**나 **함수 인자**, **클로저** 등을 활용해 **지역적·캡슐화된 상태 관리**가 권장됩니다.\n",
    "\n",
    "---\n",
    "\n",
    "## 클래스가 더 나은 이유\n",
    "\n",
    "- **캡슐화 (Encapsulation)**  \n",
    "  - `global` 대신 `self.count`처럼 객체 내부에 상태를 숨겨 둘 수 있어, 외부에서 실수로 변경되는 일을 방지합니다.\n",
    "\n",
    "- **독립성**  \n",
    "  - 여러 개의 계좌나 카운터가 필요할 때, 전역 변수는 한 가지밖에 못 만들지만,  \n",
    "    클래스 인스턴스는  \n",
    "    ```python\n",
    "    c1 = Counter()\n",
    "    c2 = Counter()\n",
    "    ```  \n",
    "    처럼 여러 개를 독립적으로 가질 수 있습니다.\n",
    "\n",
    "- **테스트·유지보수 용이**  \n",
    "  - 인스턴스별로 초기 상태를 자유롭게 지정하고,  \n",
    "  - 테스트할 때마다 새 객체를 만들어 깨끗한 상태에서 검증할 수 있습니다.\n",
    "\n",
    "---\n"
   ]
  },
  {
   "cell_type": "markdown",
   "id": "2f2c1fef",
   "metadata": {},
   "source": [
    "# 본격적으로 용어부터 시작합시다"
   ]
  },
  {
   "cell_type": "markdown",
   "id": "4a085a8a",
   "metadata": {},
   "source": [
    "# 기본 용어\n",
    "\n",
    "| 용어                  | 설명                                                      |\n",
    "|----------------------|-----------------------------------------------------------|\n",
    "| **객체 (Object)**       | 클래스라는 설계도에서 찍어낸 ‘실체’ (인스턴스)               |\n",
    "| **클래스 (Class)**      | 객체를 만들기 위한 설계도. 속성(변수)·메소드(함수) 정의      |\n",
    "| **생성자 (`__init__`)** | 객체가 처음 만들어질 때 자동 호출되어 초기 상태를 설정       |\n",
    "| **메소드 (Method)**     | 클래스 안에 정의된 함수. 첫 번째 매개변수로 `self`를 받음   |\n",
    "| **인스턴스 (instance)** | 클래스를 실제로 메모리에 올린 객체. `obj = MyClass()` 형태 |\n",
    "| **상속 (Inheritance)**  | 기존 클래스의 기능을 물려받아 확장. `class Child(Parent): …` |\n",
    "\n",
    "---\n",
    "\n",
    "## 개념 정리\n",
    "\n",
    "- **클래스 = 설계도**  \n",
    "- **객체/인스턴스 = 설계도로 만들어진 실체**  \n",
    "- **생성자 (`__init__`)**  \n",
    "  - 객체가 만들어질 때 자동으로 호출되어, 속성 초기화 및 초기 설정을 수행  \n",
    "- **메소드**  \n",
    "  - 객체가 할 수 있는 행동(함수)  \n",
    "  - `self`를 통해 해당 객체의 속성에 접근 및 동작 가능  \n",
    "- **클래스 변수 vs 인스턴스 변수**  \n",
    "  - 클래스 변수: 모든 인스턴스가 공유하는 공통 속성 (`ClassName.var`)  \n",
    "  - 인스턴스 변수: 각 인스턴스가 고유하게 가지는 속성 (`self.var`)  \n",
    "- **상속**  \n",
    "  - 기존 설계도(부모 클래스)를 이어 받아, 새 기능을 추가하거나 변경하여 새로운 클래스(자식 클래스)를 쉽게 생성  \n",
    "\n",
    "---\n",
    "\n",
    "## 주요 개념\n",
    "\n",
    "### 1. 클래스 (Class)  \n",
    "- “붕어빵 기계”와 같은 개념  \n",
    "  - 틀(설계도)에 들어갈 **재료(속성)**와 **제작 과정(메소드)** 정의  \n",
    "- **필요성**: 여러 개의 비슷한 결과물(객체)을 찍어낼 때, 한 번만 설계도를 정의하면 편리\n",
    "\n",
    "### 2. 객체 (Object) / 인스턴스 (instance)  \n",
    "- **무엇인가?** 붕어빵 기계(클래스)에서 찍어낸 실제 붕어빵  \n",
    "- **생성 방법**: `obj = MyClass()` → 메모리에 객체 생성  \n",
    "- **특징**: 같은 설계도를 사용해도, 각 객체는 **다양한 속성값**을 가질 수 있음\n",
    "\n",
    "### 3. 생성자 (`__init__`)  \n",
    "- **무엇인가?** 객체 생성 시 자동으로 호출되는 초기화 메소드  \n",
    "- **역할**:  \n",
    "  1. 속성 초기화 (`self.xxx` 설정)  \n",
    "  2. 초기 설정(예: 붕어빵 크기, 재료 비율 결정)  \n",
    "- **비유**: 붕어빵 틀에 재료를 정확히 채워 넣는 준비 과정\n",
    "\n",
    "### 4. 메소드 (Method)  \n",
    "- **무엇인가?** 객체가 수행할 수 있는 동작을 정의한 함수  \n",
    "- **특징**:  \n",
    "  - 첫 번째 인자로 항상 `self`를 받음  \n",
    "  - `self`는 “지금 이 메소드를 호출한 객체 자신”을 가리킴  \n",
    "- **필요성**: 객체의 상태(속성)를 기반으로 동작을 수행하려면, 해당 객체를 참조하는 `self`가 필요\n"
   ]
  },
  {
   "cell_type": "code",
   "execution_count": 12,
   "id": "22c34f02",
   "metadata": {},
   "outputs": [
    {
     "name": "stdout",
     "output_type": "stream",
     "text": [
      "[준비 완료] 팥 붕어빵, 반죽비율 30%\n",
      "팥 붕어빵을 굽고 있어요…\n",
      "반쪽을 뒤집습니다!\n",
      "팥 붕어빵 완성! 맛있게 드세요!\n"
     ]
    }
   ],
   "source": [
    "class BungeoppangMaker:\n",
    "    def __init__(self, filling, batter_ratio):\n",
    "        # 생성자: 객체가 만들어질 때 한 번만 실행\n",
    "        # 초기 재료 투입(속성 초기화)\n",
    "        self.filling = filling        # 속성 ①: 붕어빵 속 팥앙금 종류\n",
    "        self.batter_ratio = batter_ratio  # 속성 ②: 반죽과 물의 비율(예: 0.3 = 반죽 30%)\n",
    "        print(f\"[준비 완료] {self.filling} 붕어빵, 반죽비율 {self.batter_ratio*100:.0f}%\")\n",
    "\n",
    "    def bake(self):\n",
    "        # 메소드: 객체가 할 수 있는 동작\n",
    "        print(f\"{self.filling} 붕어빵을 굽고 있어요…\")\n",
    "\n",
    "    def flip(self):\n",
    "        print(\"반쪽을 뒤집습니다!\")\n",
    "\n",
    "    def serve(self):\n",
    "        print(f\"{self.filling} 붕어빵 완성! 맛있게 드세요!\")\n",
    "\n",
    "# ————————————————\n",
    "\n",
    "# 1) 클래스 정의\n",
    "#    BungeoppangMaker: ‘붕어빵 기계’ 설계도(클래스)\n",
    "\n",
    "# 2) 객체(인스턴스) 생성\n",
    "maker = BungeoppangMaker(\"팥\", 0.3)\n",
    "#    → 붕어빵 기계 설계도를 실제로 메모리에 올려 만든 실체가 maker\n",
    "\n",
    "# 3) 메소드 호출\n",
    "maker.bake()   # 붕어빵 굽기 동작\n",
    "maker.flip()   # 뒤집기 동작\n",
    "maker.serve()  # 완성된 붕어빵 서빙\n"
   ]
  },
  {
   "cell_type": "markdown",
   "id": "da7f6ad1",
   "metadata": {},
   "source": [
    "# 복잡해 보여도 나눠서 생각하면 쉽습니다"
   ]
  },
  {
   "cell_type": "markdown",
   "id": "71724a30",
   "metadata": {},
   "source": [
    "## 용어별 정리\n",
    "\n",
    "- **클래스 (Class)**  \n",
    "  `class BungeoppangMaker: …`  \n",
    "  - 블록 전체가 설계도  \n",
    "  - “붕어빵 기계를 어떻게 만들고, 어떤 기능이 있는지” 정의  \n",
    "\n",
    "  ```python\n",
    "  class BungeoppangMaker:\n",
    "      def __init__(self, filling, batter_ratio):\n",
    "          self.filling = filling\n",
    "          self.batter_ratio = batter_ratio\n"
   ]
  },
  {
   "cell_type": "markdown",
   "id": "7132892c",
   "metadata": {},
   "source": [
    "- **객체/인스턴스 (Object / Instance)**  \n",
    " ```python\n",
    "  maker = BungeoppangMaker(\"팥\", 0.3)  "
   ]
  },
  {
   "cell_type": "markdown",
   "id": "cf569696",
   "metadata": {},
   "source": [
    "  - **설계도(Class)**: 객체를 생성하기 위한 틀  \n",
    "  - **실제 기계(Instance)**: 설계도로부터 찍어낸 실제 기계 → `maker` 변수에 담긴 대상  "
   ]
  },
  {
   "cell_type": "markdown",
   "id": "2b7e7965",
   "metadata": {},
   "source": [
    "### 생성자 (`__init__`)\n",
    "\n",
    "```python\n",
    "def __init__(self, filling, batter_ratio):\n",
    "    self.filling = filling\n",
    "    self.batter_ratio = batter_ratio\n"
   ]
  },
  {
   "cell_type": "markdown",
   "id": "1dcf97ba",
   "metadata": {},
   "source": [
    "- **클래스 안의 생성자 메소드**  \n",
    "  - 객체가 만들어지는 순간 자동 호출  \n",
    "  - 초기 재료 투입(속성 초기화)  \n",
    "  - 팥앙금 종류와 반죽비율을 내부 상태(`self.xxx`)에 저장  \n"
   ]
  },
  {
   "cell_type": "markdown",
   "id": "fed00532",
   "metadata": {},
   "source": [
    "### 속성 (Attribute)\n",
    "\n",
    "```python\n",
    "self.filling\n",
    "self.batter_ratio\n"
   ]
  },
  {
   "cell_type": "markdown",
   "id": "91cc8904",
   "metadata": {},
   "source": [
    "객체가 저장·기억하는 데이터(상태)"
   ]
  },
  {
   "cell_type": "markdown",
   "id": "56f1bdeb",
   "metadata": {},
   "source": [
    "### 메소드 (Method)\n",
    "\n",
    "```python\n",
    "def bake(self):\n",
    "    print(f\"{self.filling} 붕어빵을 굽습니다.\")\n",
    "\n",
    "def flip(self):\n",
    "    print(\"붕어빵을 뒤집습니다.\")\n",
    "\n",
    "def serve(self):\n",
    "    print(\"붕어빵을 제공합니다.\")\n"
   ]
  },
  {
   "cell_type": "markdown",
   "id": "8bf6ac89",
   "metadata": {},
   "source": [
    "- `self`(지금 이 객체 자신)를 통해 속성(`self.filling` 등)을 읽고 동작을 수행하는 함수  "
   ]
  },
  {
   "cell_type": "markdown",
   "id": "b6cd925a",
   "metadata": {},
   "source": [
    "이 예시에서, `maker` 객체는 한 번 생성된 뒤에 `bake()`, `flip()`, `serve()` 메소드로  \n",
    "자신에게 저장된 속성(`filling`, `batter_ratio`)을 사용해 일관된 동작을 수행합니다.  \n",
    "\n",
    "함수만 사용했다면 매번 “어떤 팥앙금인지, 반죽비율은 얼마인지”를 일일이 넘겨줘야 하지만,  \n",
    "클래스+객체를 쓰면 한 번만 설정해 두고, 상태를 기억하며 여러 메소드를 간편하게 호출할 수 있습니다.  \n"
   ]
  },
  {
   "cell_type": "markdown",
   "id": "3369ab30",
   "metadata": {},
   "source": [
    "### 함수만 사용할 때의 불편함 예시"
   ]
  },
  {
   "cell_type": "code",
   "execution_count": 14,
   "id": "4c6b8838",
   "metadata": {},
   "outputs": [
    {
     "name": "stdout",
     "output_type": "stream",
     "text": [
      "팥 붕어빵을 0.3 비율로 굽습니다.\n",
      "팥 붕어빵을 뒤집습니다. (비율: 0.3)\n",
      "팥 붕어빵을 제공합니다. (비율: 0.3)\n",
      "딸기 붕어빵을 0.4 비율로 굽습니다.\n",
      "딸기 붕어빵을 뒤집습니다. (비율: 0.4)\n",
      "딸기 붕어빵을 제공합니다. (비율: 0.4)\n"
     ]
    }
   ],
   "source": [
    "# 함수 버전: 매번 동일한 정보를 계속 전달해야 함\n",
    "\n",
    "def bake(filling, batter_ratio):\n",
    "    print(f\"{filling} 붕어빵을 {batter_ratio} 비율로 굽습니다.\")\n",
    "\n",
    "def flip(filling, batter_ratio):\n",
    "    print(f\"{filling} 붕어빵을 뒤집습니다. (비율: {batter_ratio})\")\n",
    "\n",
    "def serve(filling, batter_ratio):\n",
    "    print(f\"{filling} 붕어빵을 제공합니다. (비율: {batter_ratio})\")\n",
    "\n",
    "# 팥앙금 붕어빵을 만들기 위해 매번 같은 인자를 넘겨야 함\n",
    "bake(\"팥\", 0.3)\n",
    "flip(\"팥\", 0.3)\n",
    "serve(\"팥\", 0.3)\n",
    "\n",
    "# 딸기앙금으로 만들 때도 매번 반복\n",
    "bake(\"딸기\", 0.4)\n",
    "flip(\"딸기\", 0.4)\n",
    "serve(\"딸기\", 0.4)\n"
   ]
  },
  {
   "cell_type": "markdown",
   "id": "48b90869",
   "metadata": {},
   "source": [
    "- 같은 정보를 함수마다 중복 전달  \n",
    "- 실수로 인자를 다르게 넣으면 동작이 일관되지 않음  \n",
    "- 앙금 종류나 비율을 바꾸려면 호출부의 모든 함수 호출을 수정해야 함  \n"
   ]
  },
  {
   "cell_type": "code",
   "execution_count": null,
   "id": "04c7b72a",
   "metadata": {},
   "outputs": [],
   "source": []
  }
 ],
 "metadata": {
  "kernelspec": {
   "display_name": "Python 3",
   "language": "python",
   "name": "python3"
  },
  "language_info": {
   "codemirror_mode": {
    "name": "ipython",
    "version": 3
   },
   "file_extension": ".py",
   "mimetype": "text/x-python",
   "name": "python",
   "nbconvert_exporter": "python",
   "pygments_lexer": "ipython3",
   "version": "3.12.1"
  }
 },
 "nbformat": 4,
 "nbformat_minor": 5
}
