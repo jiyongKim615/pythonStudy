{
 "cells": [
  {
   "cell_type": "markdown",
   "id": "0e69f85b",
   "metadata": {},
   "source": [
    "# 지난 시간 복습하기"
   ]
  },
  {
   "cell_type": "markdown",
   "id": "ffd07911",
   "metadata": {},
   "source": [
    "- **자료형 & 문자열**  \n",
    "  - 정수, 실수, 불, 문자열  \n",
    "  - 문자열 만들기  \n",
    "  - 문자열 연산  \n",
    "  - 문자열 길이 구하기  \n",
    "\n",
    "- **숫자 & 연산자**  \n",
    "  - 정수 vs 실수  \n",
    "  - 연산자 종류: `+ - * / // % **`  \n",
    "  - 우선순위  \n",
    "\n",
    "- **변수 & 입력**  \n",
    "  - 변수?  \n",
    "  - 복합 대입: `x = x + 5`  \n",
    "  - `input()`: 사용자 입력 받고 문자열 반환  \n",
    "  - 자료형 변환: 문자열 → 숫자(`int()`, `float()`), 숫자 → 문자열(`str()`)  \n",
    "\n",
    "- **문자열 기능**  \n",
    "  - `format()` → f string  \n",
    "  - 대소문자 변경: `upper()`, `lower()`  \n",
    "  - 공백 제거: `strip()`, `lstrip()`, `rstrip()`  \n",
    "  - 구성 파악: `isdigit()`, `isalpha()`  \n",
    "  - 분할: `s.split(\", \")`  \n",
    "\n",
    "- **조건문**  \n",
    "  - `if/elif/else`: 데이터의 흐름을 제어  \n",
    "  - 비교 연산: `==`, `!=`, `<`, `>`, `<=`, `>=`  \n",
    "  - 논리 연산: `and`, `or`, `not`  \n",
    "\n",
    "- **반복문**  \n",
    "  - `for`: 리스트/딕셔너리/문자열 순회 (`for x in list:`)  \n",
    "  - `while`: 조건이 참인 동안 반복 (`while 조건:`)  \n",
    "  - `break`/`continue`로 추가 반복 제어  \n",
    "  - 리스트 내포: `[x for x in list if 조건]`  \n",
    "\n",
    "- **함수**  \n",
    "  - 정의: `def 함수명(매개변수):`  \n",
    "  - 리턴: `return 값`  \n",
    "  - 기본 인자: `def f(x=10):`  \n",
    "  - 키워드 인자 호출: `f(y=5)`  \n"
   ]
  },
  {
   "cell_type": "code",
   "execution_count": 11,
   "id": "ad60c7db",
   "metadata": {},
   "outputs": [
    {
     "name": "stdout",
     "output_type": "stream",
     "text": [
      "정수: 10\n",
      "실수: 3.14\n",
      "불: True\n",
      "문자열: Hello, Python!\n"
     ]
    }
   ],
   "source": [
    "# 정수 (Integer)\n",
    "a = 10\n",
    "print(\"정수:\", a)\n",
    "\n",
    "# 실수 (Float)\n",
    "b = 3.14\n",
    "print(\"실수:\", b)\n",
    "\n",
    "# 불 (Boolean)\n",
    "c = True\n",
    "print(\"불:\", c)\n",
    "\n",
    "# 문자열 (String)\n",
    "d = \"Hello, Python!\"\n",
    "print(\"문자열:\", d)\n"
   ]
  },
  {
   "cell_type": "code",
   "execution_count": 12,
   "id": "a412a531",
   "metadata": {},
   "outputs": [
    {
     "name": "stdout",
     "output_type": "stream",
     "text": [
      "Hello\n",
      "World\n",
      "여러 줄로\n",
      "이렇게\n",
      "쓸 수 있어요.\n"
     ]
    }
   ],
   "source": [
    "# 문자열 만들기\n",
    "\n",
    "# 작은따옴표\n",
    "s1 = 'Hello'\n",
    "\n",
    "# 큰따옴표\n",
    "s2 = \"World\"\n",
    "\n",
    "# 여러 줄 문자열 (삼중 따옴표 사용)\n",
    "s3 = '''여러 줄로\n",
    "이렇게\n",
    "쓸 수 있어요.'''\n",
    "\n",
    "print(s1)\n",
    "print(s2)\n",
    "print(s3)"
   ]
  },
  {
   "cell_type": "code",
   "execution_count": 26,
   "id": "20d01d80",
   "metadata": {},
   "outputs": [
    {
     "name": "stdout",
     "output_type": "stream",
     "text": [
      "문자열 연결: Hello World\n",
      "문자열 반복: Hi! Hi! Hi! \n"
     ]
    }
   ],
   "source": [
    "# 문자열 연결 (덧셈)\n",
    "s1 = 'Hello'\n",
    "s2 = 'World'\n",
    "s3 = s1 + ' ' + s2\n",
    "print(\"문자열 연결:\", s3)\n",
    "\n",
    "# 문자열 반복 (곱셈)\n",
    "s4 = 'Hi! ' * 3\n",
    "print(\"문자열 반복:\", s4)\n"
   ]
  },
  {
   "cell_type": "code",
   "execution_count": 27,
   "id": "2fc5b0d7",
   "metadata": {},
   "outputs": [
    {
     "name": "stdout",
     "output_type": "stream",
     "text": [
      "문자열 길이: 14\n"
     ]
    }
   ],
   "source": [
    "# 문자열 길이 구하기\n",
    "message = \"Python is fun!\"\n",
    "length = len(message)\n",
    "print(\"문자열 길이:\", length)"
   ]
  },
  {
   "cell_type": "code",
   "execution_count": 15,
   "id": "1a50ca05",
   "metadata": {},
   "outputs": [
    {
     "name": "stdout",
     "output_type": "stream",
     "text": [
      "정수 + 정수: 12\n",
      "정수 + 실수: 13.0\n"
     ]
    }
   ],
   "source": [
    "# 숫자 & 연산자\n",
    "\n",
    "a = 10      # 정수\n",
    "b = 3.0     # 실수\n",
    "\n",
    "print(\"정수 + 정수:\", a + 2)     # 12\n",
    "print(\"정수 + 실수:\", a + b)     # 13.0 (실수)\n"
   ]
  },
  {
   "cell_type": "code",
   "execution_count": 28,
   "id": "d2e230af",
   "metadata": {},
   "outputs": [
    {
     "name": "stdout",
     "output_type": "stream",
     "text": [
      "덧셈: 13\n",
      "뺄셈: 7\n",
      "곱셈: 30\n",
      "나눗셈 (실수): 3.3333333333333335\n",
      "몫: 3\n",
      "나머지: 1\n",
      "거듭제곱: 1000\n",
      "우선순위 예시 1: 14\n",
      "우선순위 예시 2: 20\n"
     ]
    }
   ],
   "source": [
    "a = 10\n",
    "b = 3\n",
    "\n",
    "# 기본 연산\n",
    "print(\"덧셈:\", a + b)\n",
    "print(\"뺄셈:\", a - b)\n",
    "print(\"곱셈:\", a * b)\n",
    "print(\"나눗셈 (실수):\", a / b)\n",
    "print(\"몫:\", a // b)\n",
    "print(\"나머지:\", a % b)\n",
    "print(\"거듭제곱:\", a ** b)\n",
    "\n",
    "# 우선순위 예시\n",
    "result1 = 2 + 3 * 4         # 곱셈이 먼저: 2 + 12 = 14\n",
    "result2 = (2 + 3) * 4       # 괄호가 먼저: 5 * 4 = 20\n",
    "\n",
    "print(\"우선순위 예시 1:\", result1)\n",
    "print(\"우선순위 예시 2:\", result2)\n"
   ]
  },
  {
   "cell_type": "code",
   "execution_count": 17,
   "id": "7f5971e7",
   "metadata": {},
   "outputs": [
    {
     "name": "stdout",
     "output_type": "stream",
     "text": [
      "결과: 15\n"
     ]
    }
   ],
   "source": [
    "x = 10\n",
    "y = 5\n",
    "z = x + y\n",
    "print(\"결과:\", z)  # 결과: 15\n"
   ]
  },
  {
   "cell_type": "code",
   "execution_count": 18,
   "id": "5940b06e",
   "metadata": {},
   "outputs": [
    {
     "name": "stdout",
     "output_type": "stream",
     "text": [
      "x 값: 15\n"
     ]
    }
   ],
   "source": [
    "x = 10\n",
    "x = x + 5   # 또는 x += 5\n",
    "\n",
    "print(\"x 값:\", x)  # 15\n"
   ]
  },
  {
   "cell_type": "code",
   "execution_count": 21,
   "id": "e873bed1",
   "metadata": {},
   "outputs": [
    {
     "name": "stdout",
     "output_type": "stream",
     "text": [
      "안녕하세요, 지용\n"
     ]
    }
   ],
   "source": [
    "name = input(\"이름을 입력하세요: \")\n",
    "print(\"안녕하세요,\", name)\n"
   ]
  },
  {
   "cell_type": "code",
   "execution_count": 25,
   "id": "3a6382ee",
   "metadata": {},
   "outputs": [
    {
     "ename": "ValueError",
     "evalue": "invalid literal for int() with base 10: '지용'",
     "output_type": "error",
     "traceback": [
      "\u001b[31m---------------------------------------------------------------------------\u001b[39m",
      "\u001b[31mValueError\u001b[39m                                Traceback (most recent call last)",
      "\u001b[36mCell\u001b[39m\u001b[36m \u001b[39m\u001b[32mIn[25]\u001b[39m\u001b[32m, line 2\u001b[39m\n\u001b[32m      1\u001b[39m age_str = \u001b[38;5;28minput\u001b[39m(\u001b[33m\"\u001b[39m\u001b[33m나이를 입력하세요: \u001b[39m\u001b[33m\"\u001b[39m)   \u001b[38;5;66;03m# 문자열로 입력받음\u001b[39;00m\n\u001b[32m----> \u001b[39m\u001b[32m2\u001b[39m age = \u001b[38;5;28;43mint\u001b[39;49m\u001b[43m(\u001b[49m\u001b[43mage_str\u001b[49m\u001b[43m)\u001b[49m                      \u001b[38;5;66;03m# 정수형으로 변환\u001b[39;00m\n\u001b[32m      3\u001b[39m \u001b[38;5;28mprint\u001b[39m(\u001b[33m\"\u001b[39m\u001b[33m내년 나이는:\u001b[39m\u001b[33m\"\u001b[39m, age + \u001b[32m1\u001b[39m)\n",
      "\u001b[31mValueError\u001b[39m: invalid literal for int() with base 10: '지용'"
     ]
    }
   ],
   "source": [
    "age_str = input(\"나이를 입력하세요: \")   # 문자열로 입력받음\n",
    "age = int(age_str)                      # 정수형으로 변환\n",
    "print(\"내년 나이는:\", age + 1)\n"
   ]
  },
  {
   "cell_type": "code",
   "execution_count": null,
   "id": "b792d0c7",
   "metadata": {},
   "outputs": [
    {
     "name": "stdout",
     "output_type": "stream",
     "text": [
      "당신의 점수는 95점입니다.\n"
     ]
    }
   ],
   "source": [
    "# \n",
    "score = 95\n",
    "message = \"당신의 점수는 \" + str(score) + \"점입니다.\"\n",
    "print(message)\n"
   ]
  },
  {
   "cell_type": "code",
   "execution_count": null,
   "id": "2c3803e9",
   "metadata": {},
   "outputs": [
    {
     "data": {
      "text/plain": [
       "'\\n1. 사용자로부터 숫자 2개를 입력받고 더하기\\n2. 문자열 → 숫자 변환\\n3. 덧셈 후 출력\\n'"
      ]
     },
     "execution_count": 22,
     "metadata": {},
     "output_type": "execute_result"
    }
   ],
   "source": [
    "\"\"\"\n",
    "1. 사용자로부터 숫자 2개를 입력받고 더하기\n",
    "2. 문자열 → 숫자 변환\n",
    "3. 덧셈 후 출력\n",
    "\"\"\""
   ]
  },
  {
   "cell_type": "code",
   "execution_count": 29,
   "id": "1de2b21f",
   "metadata": {},
   "outputs": [
    {
     "name": "stdout",
     "output_type": "stream",
     "text": [
      "두 수의 합은: 25\n"
     ]
    }
   ],
   "source": [
    "# 사용자로부터 숫자 2개를 입력받고 더하기\n",
    "num1 = input(\"첫 번째 숫자를 입력하세요: \")\n",
    "num2 = input(\"두 번째 숫자를 입력하세요: \")\n",
    "\n",
    "# 문자열 → 숫자 변환\n",
    "num1 = int(num1)\n",
    "num2 = int(num2)\n",
    "\n",
    "# 덧셈 후 출력\n",
    "result = num1 + num2\n",
    "print(\"두 수의 합은:\", result)"
   ]
  },
  {
   "cell_type": "code",
   "execution_count": null,
   "id": "b3d70bd9",
   "metadata": {},
   "outputs": [],
   "source": [
    "name = \"Alice\"\n",
    "age = 25\n",
    "\n",
    "# format 방식\n",
    "print(\"이름은 {}이고, 나이는 {}세입니다.\".format(name, age))\n",
    "\n",
    "# f-string 방식 (추천)\n",
    "print(f\"이름은 {name}이고, 나이는 {age}세입니다.\")\n"
   ]
  },
  {
   "cell_type": "code",
   "execution_count": null,
   "id": "4354435f",
   "metadata": {},
   "outputs": [],
   "source": [
    "text = \"Python is Fun\"\n",
    "print(text.upper())  # 대문자\n",
    "print(text.lower())  # 소문자\n"
   ]
  },
  {
   "cell_type": "code",
   "execution_count": 30,
   "id": "ade37796",
   "metadata": {},
   "outputs": [
    {
     "name": "stdout",
     "output_type": "stream",
     "text": [
      "Hello\n",
      "Hello  \n",
      "  Hello\n"
     ]
    }
   ],
   "source": [
    "txt = \"  Hello  \"\n",
    "print(txt.strip())   # 양쪽 공백 제거\n",
    "print(txt.lstrip())  # 왼쪽 공백 제거\n",
    "print(txt.rstrip())  # 오른쪽 공백 제거\n"
   ]
  },
  {
   "cell_type": "code",
   "execution_count": null,
   "id": "f9151099",
   "metadata": {},
   "outputs": [],
   "source": [
    "s1 = \"123\"\n",
    "s2 = \"abc\"\n",
    "print(s1.isdigit())  # True\n",
    "print(s2.isalpha())  # True\n"
   ]
  },
  {
   "cell_type": "code",
   "execution_count": null,
   "id": "5558c901",
   "metadata": {},
   "outputs": [],
   "source": [
    "s = \"사과, 바나나, 포도\"\n",
    "fruits = s.split(\", \")\n",
    "print(fruits)  # ['사과', '바나나', '포도']\n"
   ]
  },
  {
   "cell_type": "code",
   "execution_count": 31,
   "id": "c9978035",
   "metadata": {},
   "outputs": [
    {
     "name": "stdout",
     "output_type": "stream",
     "text": [
      "B\n",
      "성인입니다.\n"
     ]
    }
   ],
   "source": [
    "score = 85\n",
    "\n",
    "if score >= 90:\n",
    "    print(\"A\")\n",
    "elif score >= 80:\n",
    "    print(\"B\")\n",
    "else:\n",
    "    print(\"C\")\n",
    "\n",
    "# 비교 연산자: ==, !=, <, >, <=, >=\n",
    "# 논리 연산자: and, or, not\n",
    "\n",
    "age = 20\n",
    "if age >= 18 and age < 65:\n",
    "    print(\"성인입니다.\")\n"
   ]
  },
  {
   "cell_type": "code",
   "execution_count": 32,
   "id": "00b20699",
   "metadata": {},
   "outputs": [
    {
     "name": "stdout",
     "output_type": "stream",
     "text": [
      "apple\n",
      "banana\n",
      "cherry\n"
     ]
    }
   ],
   "source": [
    "fruits = [\"apple\", \"banana\", \"cherry\"]\n",
    "for fruit in fruits:\n",
    "    print(fruit)\n"
   ]
  },
  {
   "cell_type": "code",
   "execution_count": null,
   "id": "346b2b0a",
   "metadata": {},
   "outputs": [
    {
     "name": "stdout",
     "output_type": "stream",
     "text": [
      "반복 중: 0\n",
      "반복 중: 1\n",
      "반복 중: 2\n"
     ]
    }
   ],
   "source": [
    "count = 0\n",
    "while count < 3:\n",
    "    print(\"반복 중:\", count)\n",
    "    count += 1\n"
   ]
  },
  {
   "cell_type": "code",
   "execution_count": null,
   "id": "9c7870dd",
   "metadata": {},
   "outputs": [
    {
     "name": "stdout",
     "output_type": "stream",
     "text": [
      "0\n",
      "2\n"
     ]
    }
   ],
   "source": [
    "for i in range(5):\n",
    "    if i == 3:\n",
    "        break   # 3에서 종료\n",
    "    if i == 1:\n",
    "        continue  # 1은 건너뜀\n",
    "    print(i)\n"
   ]
  },
  {
   "cell_type": "code",
   "execution_count": null,
   "id": "97e58da8",
   "metadata": {},
   "outputs": [
    {
     "name": "stdout",
     "output_type": "stream",
     "text": [
      "[4, 16]\n"
     ]
    }
   ],
   "source": [
    "numbers = [1, 2, 3, 4, 5]\n",
    "squares = [x ** 2 for x in numbers if x % 2 == 0]\n",
    "print(squares)  # [4, 16]\n"
   ]
  },
  {
   "cell_type": "code",
   "execution_count": null,
   "id": "86d96d20",
   "metadata": {},
   "outputs": [
    {
     "name": "stdout",
     "output_type": "stream",
     "text": [
      "Hello, Alice!\n"
     ]
    }
   ],
   "source": [
    "def greet(name):\n",
    "    return f\"Hello, {name}!\"\n",
    "\n",
    "print(greet(\"Alice\"))\n"
   ]
  },
  {
   "cell_type": "code",
   "execution_count": null,
   "id": "a1bb08cb",
   "metadata": {},
   "outputs": [
    {
     "name": "stdout",
     "output_type": "stream",
     "text": [
      "9\n",
      "27\n"
     ]
    }
   ],
   "source": [
    "def power(base, exponent=2):\n",
    "    return base ** exponent\n",
    "\n",
    "print(power(3))      # 9\n",
    "print(power(3, 3))   # 27\n"
   ]
  },
  {
   "cell_type": "code",
   "execution_count": 33,
   "id": "068f2681",
   "metadata": {},
   "outputs": [
    {
     "name": "stdout",
     "output_type": "stream",
     "text": [
      "Bob는 30살입니다.\n"
     ]
    }
   ],
   "source": [
    "def introduce(name, age):\n",
    "    print(f\"{name}는 {age}살입니다.\")\n",
    "\n",
    "introduce(age=30, name=\"Bob\")\n"
   ]
  },
  {
   "cell_type": "code",
   "execution_count": null,
   "id": "f542c2a0",
   "metadata": {},
   "outputs": [
    {
     "name": "stdout",
     "output_type": "stream",
     "text": [
      "6\n",
      "name: Alice\n",
      "age: 25\n"
     ]
    }
   ],
   "source": [
    "def sum_all(*args):\n",
    "    return sum(args)\n",
    "\n",
    "print(sum_all(1, 2, 3))  # 6\n",
    "\n",
    "def print_info(**kwargs):\n",
    "    for key, value in kwargs.items():\n",
    "        print(f\"{key}: {value}\")\n",
    "\n",
    "print_info(name=\"Alice\", age=25)\n"
   ]
  },
  {
   "cell_type": "code",
   "execution_count": null,
   "id": "6dc0623b",
   "metadata": {},
   "outputs": [
    {
     "name": "stdout",
     "output_type": "stream",
     "text": [
      "25\n",
      "25\n"
     ]
    }
   ],
   "source": [
    "# 일반 함수\n",
    "def square(x):\n",
    "    return x * x\n",
    "\n",
    "# 람다 함수\n",
    "square_lambda = lambda x: x * x\n",
    "\n",
    "print(square(5))         # 25\n",
    "print(square_lambda(5))  # 25"
   ]
  },
  {
   "cell_type": "markdown",
   "id": "556f2422",
   "metadata": {},
   "source": [
    "# 추가로 생각하기"
   ]
  },
  {
   "cell_type": "markdown",
   "id": "2f2e75d4",
   "metadata": {},
   "source": [
    "input() 결과는 항상 ?\n",
    "문자열\n",
    "\n",
    "숫자로 쓰려면 → int() 또는 float()로 변환해야 함\n"
   ]
  },
  {
   "cell_type": "code",
   "execution_count": null,
   "id": "b68e3151",
   "metadata": {},
   "outputs": [
    {
     "name": "stdout",
     "output_type": "stream",
     "text": [
      "<class 'str'>\n",
      "36 35.5\n"
     ]
    }
   ],
   "source": [
    "# input() 은 항상 문자열을 반환\n",
    "s = input(\"숫자를 입력하세요: \")   # 예: 42\n",
    "print(type(s))                     # <class 'str'>\n",
    "\n",
    "# 숫자로 쓰려면\n",
    "n1 = int(s)\n",
    "n2 = float(s)\n",
    "print(n1 + 1, n2 + 0.5)\n"
   ]
  },
  {
   "cell_type": "markdown",
   "id": "6fb57480",
   "metadata": {},
   "source": [
    "'+' vs '*'\n",
    "\n",
    "문자열끼리 + → 연결(concatenation)\n",
    "\n",
    "숫자끼리 + → 덧셈(addition)\n",
    "\n",
    "문자열끼리 * → 반복(repetition)\n",
    "\n",
    "숫자끼리 * → 곱셈(multiplication)"
   ]
  },
  {
   "cell_type": "code",
   "execution_count": null,
   "id": "59c92509",
   "metadata": {},
   "outputs": [
    {
     "name": "stdout",
     "output_type": "stream",
     "text": [
      "Hello, World!\n",
      "5\n",
      "HaHaHa\n",
      "6\n"
     ]
    }
   ],
   "source": [
    "# 덧셈 vs 연결\n",
    "print(\"Hello, \" + \"World!\")  # Hello, World!\n",
    "print(2 + 3)                 # 5\n",
    "\n",
    "# 곱셈 vs 반복\n",
    "print(\"Ha\" * 3)  # HaHaHa\n",
    "print(2 * 3)     # 6\n"
   ]
  },
  {
   "cell_type": "markdown",
   "id": "a6eeab23",
   "metadata": {},
   "source": [
    "// vs /\n",
    "/ : 실수 나눗셈 (항상 float)\n",
    "\n",
    "//: 정수 나눗셈(몫) (floor division)"
   ]
  },
  {
   "cell_type": "code",
   "execution_count": null,
   "id": "3db50be2",
   "metadata": {},
   "outputs": [
    {
     "name": "stdout",
     "output_type": "stream",
     "text": [
      "3.5\n",
      "3\n",
      "-4\n"
     ]
    }
   ],
   "source": [
    "print(7 / 2)   # 3.5\n",
    "print(7 // 2)  # 3\n",
    "print(-7 // 2) # -4  (파이썬은 내림(floor) 방식)\n"
   ]
  },
  {
   "cell_type": "markdown",
   "id": "ddc5d523",
   "metadata": {},
   "source": [
    "if 순서에서 elif가 여러 개일 때\n",
    "첫 번째로 참(True)인 분기만 실행\n",
    "\n",
    "그 뒤의 elif/else는 모두 건너뜀"
   ]
  },
  {
   "cell_type": "code",
   "execution_count": 35,
   "id": "3ba3ccdf",
   "metadata": {},
   "outputs": [
    {
     "name": "stdout",
     "output_type": "stream",
     "text": [
      "10 ≤ x < 20\n"
     ]
    }
   ],
   "source": [
    "x = 15\n",
    "\n",
    "if x < 10:\n",
    "    print(\"x < 10\")\n",
    "elif x < 20:\n",
    "    print(\"10 ≤ x < 20\")  # 여기만 실행\n",
    "elif x < 30:\n",
    "    print(\"20 ≤ x < 30\")\n",
    "else:\n",
    "    print(\"x ≥ 30\")\n"
   ]
  },
  {
   "cell_type": "markdown",
   "id": "487e697d",
   "metadata": {},
   "source": [
    "리스트 내포 vs for + append\n",
    "\n",
    "리스트 내포: 간결하지만, 복잡해지면 가독성 ↓\n",
    "\n",
    "for+append: 명시적이어서 복잡한 로직에 유리"
   ]
  },
  {
   "cell_type": "code",
   "execution_count": null,
   "id": "b358e700",
   "metadata": {},
   "outputs": [
    {
     "name": "stdout",
     "output_type": "stream",
     "text": [
      "[2, 4]\n",
      "[2, 4]\n"
     ]
    }
   ],
   "source": [
    "nums = [1, 2, 3, 4, 5]\n",
    "\n",
    "# 리스트 내포\n",
    "evens1 = [x for x in nums if x % 2 == 0]\n",
    "print(evens1)  # [2, 4]\n",
    "\n",
    "# for + append\n",
    "evens2 = []\n",
    "for x in nums:\n",
    "    if x % 2 == 0:\n",
    "        evens2.append(x)\n",
    "print(evens2)  # [2, 4]\n"
   ]
  },
  {
   "cell_type": "markdown",
   "id": "c49edbda",
   "metadata": {},
   "source": [
    "# 퀴즈 빠르게 풀어보기"
   ]
  },
  {
   "cell_type": "markdown",
   "id": "124180b8",
   "metadata": {},
   "source": [
    "## input() 으로 받은 값에 바로 + 1000 연산하면 어떻게 될까요? 어떤 오류?\n",
    "\n",
    "## \"A\"*3 + \"B\"*2의 결과는?\n",
    "\n",
    "## 5/2, 5//2, 5%2의 값은 각각?\n",
    "\n",
    "## if-elif-else 구조에서 elif가 여러 개일 때 주의할 점은?\n",
    "\n",
    "## 리스트 내포 `[x**2 for x in [1,2,3] if x>1]`의 결과는?\n",
    "\n",
    "## `def f(a, b=10, *args): …` 빈칸에 적절히 호출하려면? 예시?\n",
    "\n",
    "## `s = \" Hello \"` → `s.strip()`의 결과는?\n",
    "\n",
    "## `for key, value in {\"a\":1, \"b\":2}.items():` 이 반복문은 각각 어떤 값을 `key`와 `value`에 넣는가?\n",
    "\n",
    "## `def g(x, lst=[]): lst.append(x); return lst` → `g(1)`, `g(2)`를 연속 호출하면 결과는?\n"
   ]
  },
  {
   "cell_type": "code",
   "execution_count": null,
   "id": "ccce93c2",
   "metadata": {},
   "outputs": [
    {
     "name": "stdout",
     "output_type": "stream",
     "text": [
      "a: 1\n",
      "b: 2\n"
     ]
    }
   ],
   "source": [
    "for key, value in {'a': 1, 'b': 2}.items():\n",
    "    print(f\"{key}: {value}\")"
   ]
  },
  {
   "cell_type": "markdown",
   "id": "cf17ff35",
   "metadata": {},
   "source": [
    "TypeError: 문자열과 숫자를 더하려 하기 때문\n",
    "\n",
    "\"AAA\" + \"BB\" → \"AAABB\"\n",
    "\n",
    "5/2 = 2.5, 5//2 = 2, 5%2 = 1\n",
    "\n",
    "첫 번째 참(True)인 elif만 실행되고 이후는 무시된다\n",
    "\n",
    "[4, 9]\n",
    "\n",
    "예: f(3), f(3, 5), f(3, 5, 7, 9)\n",
    "\n",
    "\"Hello\" (양쪽 공백 제거)\n",
    "\n",
    "첫 반복: key=\"a\", value=1; 두 번째: key=\"b\", value=2\n",
    "\n",
    "[1] → [1, 2] (기본 리스트가 계속 누적됨)\n",
    "\n"
   ]
  },
  {
   "cell_type": "markdown",
   "id": "f029370f",
   "metadata": {},
   "source": [
    "### 수고하셨습니다. "
   ]
  }
 ],
 "metadata": {
  "kernelspec": {
   "display_name": "Python 3",
   "language": "python",
   "name": "python3"
  },
  "language_info": {
   "codemirror_mode": {
    "name": "ipython",
    "version": 3
   },
   "file_extension": ".py",
   "mimetype": "text/x-python",
   "name": "python",
   "nbconvert_exporter": "python",
   "pygments_lexer": "ipython3",
   "version": "3.12.1"
  }
 },
 "nbformat": 4,
 "nbformat_minor": 5
}
