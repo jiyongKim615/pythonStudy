{
 "cells": [
  {
   "cell_type": "markdown",
   "id": "1120e619",
   "metadata": {},
   "source": [
    "# 자료형 & 문자열"
   ]
  },
  {
   "cell_type": "markdown",
   "id": "2c41a8b1",
   "metadata": {},
   "source": [
    "### 정수, 실수, 불, 문자열"
   ]
  },
  {
   "cell_type": "code",
   "execution_count": 4,
   "id": "ad60c7db",
   "metadata": {},
   "outputs": [
    {
     "name": "stdout",
     "output_type": "stream",
     "text": [
      "정수: 10\n",
      "실수: 3.14\n",
      "불: True\n",
      "문자열: Hello, Python!\n"
     ]
    }
   ],
   "source": [
    "# 정수 (Integer)\n",
    "a = 10\n",
    "print(\"정수:\", a)\n",
    "\n",
    "# 실수 (Float)\n",
    "b = 3.14\n",
    "print(\"실수:\", b)\n",
    "\n",
    "# 불 (Boolean)\n",
    "c = True\n",
    "print(\"불:\", c)\n",
    "\n",
    "# 문자열 (String)\n",
    "d = \"Hello, Python!\"\n",
    "print(\"문자열:\", d)"
   ]
  },
  {
   "cell_type": "markdown",
   "id": "f4302f5c",
   "metadata": {},
   "source": [
    "### 문자열 만들기"
   ]
  },
  {
   "cell_type": "code",
   "execution_count": null,
   "id": "a412a531",
   "metadata": {},
   "outputs": [],
   "source": []
  },
  {
   "cell_type": "markdown",
   "id": "f1ee24d2",
   "metadata": {},
   "source": [
    "## 숫자 & 연산자"
   ]
  },
  {
   "cell_type": "code",
   "execution_count": null,
   "id": "1a50ca05",
   "metadata": {},
   "outputs": [],
   "source": []
  }
 ],
 "metadata": {
  "kernelspec": {
   "display_name": "Python 3",
   "language": "python",
   "name": "python3"
  },
  "language_info": {
   "codemirror_mode": {
    "name": "ipython",
    "version": 3
   },
   "file_extension": ".py",
   "mimetype": "text/x-python",
   "name": "python",
   "nbconvert_exporter": "python",
   "pygments_lexer": "ipython3",
   "version": "3.12.1"
  }
 },
 "nbformat": 4,
 "nbformat_minor": 5
}
