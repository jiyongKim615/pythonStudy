{
 "cells": [
  {
   "cell_type": "markdown",
   "id": "cc4df4ad",
   "metadata": {},
   "source": [
    "질문\n",
    "\n",
    "\"라면 끓일 때 매번 라면 스프부터 직접 만든다면 얼마나 힘들까요?\"\n",
    "\n",
    "모듈은 이미 만들어진 ‘기능 스프’ 같은 것\n",
    "\n",
    "다른 사람이 만들어 둔 기능(코드)을 그대로 가져와서 [재사용] 가능\n",
    "\n",
    "덕분에 시간 절약, 버그 줄이기, 협업 용이"
   ]
  },
  {
   "cell_type": "markdown",
   "id": "da9f951b",
   "metadata": {},
   "source": [
    "# 모듈의 종류\n",
    "- 표준 모듈: 파이썬이 기본 제공 (math, datetime, os 등)\n",
    "\n",
    "- 외부 모듈: pip install로 설치 (requests, pandas, flask 등)\n",
    "\n",
    "- 사용자 정의 모듈: 내가 만든 .py 파일을 불러오는 것"
   ]
  },
  {
   "cell_type": "markdown",
   "id": "486e2432",
   "metadata": {},
   "source": [
    "```python\n",
    "import 모듈명\n",
    "import 모듈명 as 별명\n",
    "from 모듈명 import 함수명\n",
    "from 모듈명 import 함수명 as 별명"
   ]
  },
  {
   "cell_type": "code",
   "execution_count": 1,
   "id": "d9508220",
   "metadata": {},
   "outputs": [],
   "source": [
    "from mymath import add"
   ]
  },
  {
   "cell_type": "code",
   "execution_count": null,
   "id": "49825380",
   "metadata": {},
   "outputs": [],
   "source": []
  },
  {
   "cell_type": "markdown",
   "id": "829364c7",
   "metadata": {},
   "source": [
    "# 모듈.함수명"
   ]
  },
  {
   "cell_type": "code",
   "execution_count": 3,
   "id": "b2695ae7",
   "metadata": {},
   "outputs": [
    {
     "name": "stdout",
     "output_type": "stream",
     "text": [
      "제곱근: 4.0\n",
      "원주율: 3.141592653589793\n",
      "오늘 날짜: 2025-08-09\n"
     ]
    }
   ],
   "source": [
    "# math 모듈 사용\n",
    "import math\n",
    "\n",
    "print(\"제곱근:\", math.sqrt(16))\n",
    "print(\"원주율:\", math.pi)\n",
    "\n",
    "# datetime 모듈 사용\n",
    "from datetime import date\n",
    "print(\"오늘 날짜:\", date.today())"
   ]
  },
  {
   "cell_type": "markdown",
   "id": "fff21421",
   "metadata": {},
   "source": [
    "# 포인트\n",
    "\n",
    "- 표준 모듈은 설치 없이 바로 사용 가능\n",
    "\n",
    "- 필요한 함수만 불러올 수도 있음 (from ~ import ~)"
   ]
  },
  {
   "cell_type": "markdown",
   "id": "4728e6f0",
   "metadata": {},
   "source": [
    "# 외부 모듈\n",
    "- pip install requests"
   ]
  },
  {
   "cell_type": "markdown",
   "id": "23b92943",
   "metadata": {},
   "source": [
    "```python\n",
    "import requests\n",
    "\n",
    "# API 대신 httpbin.org로 테스트\n",
    "response = requests.get(\"https://httpbin.org/get\")\n",
    "print(\"상태 코드:\", response.status_code)\n",
    "print(\"응답 JSON:\", response.json())"
   ]
  },
  {
   "cell_type": "markdown",
   "id": "84f959a7",
   "metadata": {},
   "source": [
    "# 포인트\n",
    "\n",
    "- pip install로 외부 패키지를 설치\n",
    "\n",
    "- 설치 후 import로 불러와 사용\n",
    "\n",
    "- 네트워크, 데이터 분석, 웹 개발 등 파이썬이 기본 제공하지 않는 기능도 쉽게 확장 가능"
   ]
  },
  {
   "cell_type": "code",
   "execution_count": 9,
   "id": "c0a165f4",
   "metadata": {},
   "outputs": [
    {
     "name": "stdout",
     "output_type": "stream",
     "text": [
      "{'slideshow': {'author': 'Yours Truly', 'date': 'date of publication', 'slides': [{'title': 'Wake up to WonderWidgets!', 'type': 'all'}, {'items': ['Why <em>WonderWidgets</em> are great', 'Who <em>buys</em> WonderWidgets'], 'title': 'Overview', 'type': 'all'}], 'title': 'Sample Slide Show'}}\n"
     ]
    }
   ],
   "source": [
    "import socket\n",
    "import json\n",
    "\n",
    "def recv_all(sock):\n",
    "    chunks = []\n",
    "    while True:\n",
    "        b = sock.recv(4096)\n",
    "        if not b:\n",
    "            break\n",
    "        chunks.append(b)\n",
    "    return b\"\".join(chunks)\n",
    "\n",
    "def parse_headers(header_bytes):\n",
    "    header_text = header_bytes.decode(\"iso-8859-1\")  # 헤더는 라틴-1로 안전\n",
    "    lines = header_text.split(\"\\r\\n\")\n",
    "    status_line = lines[0]\n",
    "    headers = {}\n",
    "    for line in lines[1:]:\n",
    "        if not line:\n",
    "            continue\n",
    "        k, v = line.split(\":\", 1)\n",
    "        headers[k.strip().lower()] = v.strip()\n",
    "    # HTTP/1.1 200 OK\n",
    "    proto, status, *_ = status_line.split(\" \", 2)\n",
    "    return int(status), headers\n",
    "\n",
    "def read_chunked(body_bytes):\n",
    "    i = 0\n",
    "    out = bytearray()\n",
    "    while True:\n",
    "        # chunk size line\n",
    "        j = body_bytes.find(b\"\\r\\n\", i)\n",
    "        if j == -1:\n",
    "            raise ValueError(\"Invalid chunked encoding: no CRLF after size\")\n",
    "        size_line = body_bytes[i:j].split(b\";\", 1)[0]  # ignore extensions\n",
    "        size = int(size_line, 16)\n",
    "        i = j + 2\n",
    "        if size == 0:\n",
    "            # optional trailer headers until CRLF\n",
    "            k = body_bytes.find(b\"\\r\\n\\r\\n\", i)\n",
    "            if k == -1:\n",
    "                # no trailers\n",
    "                return bytes(out)\n",
    "            return bytes(out)\n",
    "        # read chunk data + CRLF\n",
    "        out += body_bytes[i:i+size]\n",
    "        i += size\n",
    "        if body_bytes[i:i+2] != b\"\\r\\n\":\n",
    "            raise ValueError(\"Invalid chunked encoding: missing CRLF after chunk\")\n",
    "        i += 2\n",
    "\n",
    "def get(host, path, port=80, https=False):\n",
    "    # 이 예시는 http만 다룹니다(간소화). https는 ssl.wrap_socket 필요.\n",
    "    addr = (host, port)\n",
    "    with socket.socket(socket.AF_INET, socket.SOCK_STREAM) as sock:\n",
    "        sock.connect(addr)\n",
    "        req = (\n",
    "            f\"GET {path} HTTP/1.1\\r\\n\"\n",
    "            f\"Host: {host}\\r\\n\"\n",
    "            \"User-Agent: tiny-socket-client/0.1\\r\\n\"\n",
    "            \"Accept: application/json\\r\\n\"\n",
    "            \"Connection: close\\r\\n\"\n",
    "            \"\\r\\n\"\n",
    "        )\n",
    "        sock.sendall(req.encode(\"ascii\"))\n",
    "        raw = recv_all(sock)\n",
    "\n",
    "    # 헤더/바디 분리\n",
    "    sep = raw.find(b\"\\r\\n\\r\\n\")\n",
    "    if sep == -1:\n",
    "        raise ValueError(\"Invalid HTTP response (no header/body separator)\")\n",
    "    header_bytes = raw[:sep]\n",
    "    body_bytes = raw[sep+4:]\n",
    "\n",
    "    status, headers = parse_headers(header_bytes)\n",
    "\n",
    "    if status != 200:\n",
    "        raise RuntimeError(f\"HTTP {status}\")\n",
    "\n",
    "    # 바디 조립 (chunked vs content-length vs EOF)\n",
    "    te = headers.get(\"transfer-encoding\")\n",
    "    if te and \"chunked\" in te.lower():\n",
    "        body = read_chunked(body_bytes)\n",
    "    else:\n",
    "        cl = headers.get(\"content-length\")\n",
    "        if cl is not None:\n",
    "            need = int(cl)\n",
    "            # Connection: close로 대부분 raw에 다 들어와 있지만,\n",
    "            # 일반화하려면 부족분을 재수신해야 함. 여기선 간소화 가정.\n",
    "            body = body_bytes[:need]\n",
    "        else:\n",
    "            # 길이 정보 없으면 EOF까지가 바디(이미 recv_all로 끝까지 받음)\n",
    "            body = body_bytes\n",
    "\n",
    "    # 문자셋 추정\n",
    "    ctype = headers.get(\"content-type\", \"\")\n",
    "    charset = \"utf-8\"\n",
    "    if \"charset=\" in ctype:\n",
    "        charset = ctype.split(\"charset=\")[-1].split(\";\")[0].strip()\n",
    "\n",
    "    text = body.decode(charset, errors=\"replace\")\n",
    "\n",
    "    # JSON 파싱 (실패 시 예외)\n",
    "    return json.loads(text)\n",
    "\n",
    "if __name__ == \"__main__\":\n",
    "    data = get(\"httpbin.org\", \"/json\")\n",
    "    print(data)\n"
   ]
  },
  {
   "cell_type": "code",
   "execution_count": null,
   "id": "4b607cc3",
   "metadata": {},
   "outputs": [
    {
     "name": "stdout",
     "output_type": "stream",
     "text": [
      "Requirement already satisfied: requests in /home/codespace/.local/lib/python3.12/site-packages (2.32.4)\n",
      "Requirement already satisfied: charset_normalizer<4,>=2 in /home/codespace/.local/lib/python3.12/site-packages (from requests) (3.4.2)\n",
      "Requirement already satisfied: idna<4,>=2.5 in /home/codespace/.local/lib/python3.12/site-packages (from requests) (3.10)\n",
      "Requirement already satisfied: urllib3<3,>=1.21.1 in /home/codespace/.local/lib/python3.12/site-packages (from requests) (2.5.0)\n",
      "Requirement already satisfied: certifi>=2017.4.17 in /home/codespace/.local/lib/python3.12/site-packages (from requests) (2025.7.9)\n",
      "\n",
      "\u001b[1m[\u001b[0m\u001b[34;49mnotice\u001b[0m\u001b[1;39;49m]\u001b[0m\u001b[39;49m A new release of pip is available: \u001b[0m\u001b[31;49m25.1.1\u001b[0m\u001b[39;49m -> \u001b[0m\u001b[32;49m25.2\u001b[0m\n",
      "\u001b[1m[\u001b[0m\u001b[34;49mnotice\u001b[0m\u001b[1;39;49m]\u001b[0m\u001b[39;49m To update, run: \u001b[0m\u001b[32;49mpython3 -m pip install --upgrade pip\u001b[0m\n",
      "{'slideshow': {'author': 'Yours Truly', 'date': 'date of publication', 'slides': [{'title': 'Wake up to WonderWidgets!', 'type': 'all'}, {'items': ['Why <em>WonderWidgets</em> are great', 'Who <em>buys</em> WonderWidgets'], 'title': 'Overview', 'type': 'all'}], 'title': 'Sample Slide Show'}}\n"
     ]
    }
   ],
   "source": [
    "!pip install requests\n",
    "\n",
    "import requests\n",
    "\n",
    "data = requests.get(\"https://httpbin.org/json\").json()\n",
    "print(data)"
   ]
  },
  {
   "cell_type": "markdown",
   "id": "50e791e5",
   "metadata": {},
   "source": [
    "\n",
    "```python\n",
    "# mymath.py\n",
    "def add(a, b):\n",
    "    return a + b\n",
    "\n",
    "def sub(a, b):\n",
    "    return a - b"
   ]
  },
  {
   "cell_type": "markdown",
   "id": "9ae0fa12",
   "metadata": {},
   "source": [
    "```python\n",
    "import mymath\n",
    "\n",
    "print(mymath.add(3, 5))\n",
    "print(mymath.sub(10, 4))"
   ]
  },
  {
   "cell_type": "code",
   "execution_count": 5,
   "id": "3f22bbb5",
   "metadata": {},
   "outputs": [
    {
     "name": "stdout",
     "output_type": "stream",
     "text": [
      "8\n",
      "6\n"
     ]
    }
   ],
   "source": [
    "import mymath\n",
    "\n",
    "print(mymath.add(3, 5))\n",
    "print(mymath.sub(10, 4))"
   ]
  },
  {
   "cell_type": "markdown",
   "id": "b4bae87c",
   "metadata": {},
   "source": [
    "# 섭씨를 화씨로 바꾸는 myconverter.py를 만들어서 \n",
    "- 30도 섭씨를 화씨로 바꾸고\n",
    "- 80도 화씨를 섭씨로 바꿀것"
   ]
  },
  {
   "cell_type": "markdown",
   "id": "c07a74e1",
   "metadata": {},
   "source": [
    "```python\n",
    "def c_to_f(c):\n",
    "    return c * 9/5 + 32\n",
    "\n",
    "def f_to_c(f):\n",
    "    return (f - 32) * 5/9"
   ]
  },
  {
   "cell_type": "markdown",
   "id": "f052d7d2",
   "metadata": {},
   "source": []
  }
 ],
 "metadata": {
  "kernelspec": {
   "display_name": "Python 3",
   "language": "python",
   "name": "python3"
  },
  "language_info": {
   "codemirror_mode": {
    "name": "ipython",
    "version": 3
   },
   "file_extension": ".py",
   "mimetype": "text/x-python",
   "name": "python",
   "nbconvert_exporter": "python",
   "pygments_lexer": "ipython3",
   "version": "3.12.1"
  }
 },
 "nbformat": 4,
 "nbformat_minor": 5
}
