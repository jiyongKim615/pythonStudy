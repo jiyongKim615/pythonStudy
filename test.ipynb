{
 "cells": [
  {
   "cell_type": "code",
   "execution_count": 2,
   "id": "467640dc",
   "metadata": {},
   "outputs": [],
   "source": [
    "class Person:\n",
    "    # 1) __init__: 객체가 만들어질 때 실행되는 특별 메서드\n",
    "    def __init__(self, name, age):\n",
    "        self.name = name  # 인스턴스 속성(attribute)\n",
    "        self.age = age\n",
    "\n",
    "    # 2) 메서드: 객체가 할 수 있는 동작\n",
    "    def greet(self):\n",
    "        return f\"안녕, 나는 {self.name}이고, {self.age}살이야!\""
   ]
  },
  {
   "cell_type": "code",
   "execution_count": 3,
   "id": "f8b2950b",
   "metadata": {},
   "outputs": [],
   "source": [
    "p1 = Person(\"철수\", 17)"
   ]
  },
  {
   "cell_type": "code",
   "execution_count": 4,
   "id": "2c7156d9",
   "metadata": {},
   "outputs": [
    {
     "data": {
      "text/plain": [
       "'철수'"
      ]
     },
     "execution_count": 4,
     "metadata": {},
     "output_type": "execute_result"
    }
   ],
   "source": [
    "p1.name"
   ]
  },
  {
   "cell_type": "code",
   "execution_count": 5,
   "id": "93c0ae52",
   "metadata": {},
   "outputs": [
    {
     "data": {
      "text/plain": [
       "17"
      ]
     },
     "execution_count": 5,
     "metadata": {},
     "output_type": "execute_result"
    }
   ],
   "source": [
    "p1.age"
   ]
  },
  {
   "cell_type": "code",
   "execution_count": 9,
   "id": "be6bd4bc",
   "metadata": {},
   "outputs": [],
   "source": [
    "Person.__init__(p1, \"철수\", 17)"
   ]
  },
  {
   "cell_type": "code",
   "execution_count": 6,
   "id": "0ee77ebe",
   "metadata": {},
   "outputs": [
    {
     "name": "stdout",
     "output_type": "stream",
     "text": [
      "철수\n",
      "10\n"
     ]
    }
   ],
   "source": [
    "def person(name, age):\n",
    "    print(name)\n",
    "    print(age)\n",
    "\n",
    "person('철수', 10)\n"
   ]
  },
  {
   "cell_type": "code",
   "execution_count": null,
   "id": "4347ae35",
   "metadata": {},
   "outputs": [],
   "source": []
  }
 ],
 "metadata": {
  "kernelspec": {
   "display_name": "Python 3",
   "language": "python",
   "name": "python3"
  },
  "language_info": {
   "codemirror_mode": {
    "name": "ipython",
    "version": 3
   },
   "file_extension": ".py",
   "mimetype": "text/x-python",
   "name": "python",
   "nbconvert_exporter": "python",
   "pygments_lexer": "ipython3",
   "version": "3.12.1"
  }
 },
 "nbformat": 4,
 "nbformat_minor": 5
}
