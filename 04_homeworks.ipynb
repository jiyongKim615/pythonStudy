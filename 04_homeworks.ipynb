{
 "cells": [
  {
   "cell_type": "markdown",
   "id": "94e717c2",
   "metadata": {},
   "source": [
    "# KBDS와 함께하는 Python 방과후 교실 **연습 문제**\n",
    "#### 출제자: 김지용 강사\n",
    "### 제출기한: ~20250808 \n",
    "### 문제 리뷰: 20250809\n",
    "- **아래의 코드를 직접 타이핑해 보신 후, 요구사항에 맞게 자유롭게 문제를 풀어 보시기 바랍니다.**\n",
    "- **기존 학습 자료에 없는 경우 chatGPT, Google 등에 능동적으로 검색해보세요.**"
   ]
  },
  {
   "cell_type": "markdown",
   "id": "4081f253",
   "metadata": {},
   "source": [
    "---"
   ]
  },
  {
   "cell_type": "markdown",
   "id": "2aebe363",
   "metadata": {},
   "source": [
    "## 문제1: 자료형 & 문자열 이해하기\n",
    "\n",
    "- **(1) 출력 결과는?**\n",
    "- **(2) `a * 2`와 `len(a)`의 의미는?**\n",
    "\n",
    "[출제 의도]\n",
    "- `type()`으로 자료형 확인하기\n",
    "- 문자열 곱셈과 길이 계산 이해하기\n",
    "\n",
    "```python\n",
    "a = \"Python\"\n",
    "b = 3.14\n",
    "c = True\n",
    "d = 7\n",
    "print(type(a), type(b), type(c), type(d))\n",
    "print(a * 2, len(a))"
   ]
  },
  {
   "cell_type": "markdown",
   "id": "b8aee0d1",
   "metadata": {},
   "source": [
    "---"
   ]
  },
  {
   "cell_type": "markdown",
   "id": "1f1e131d",
   "metadata": {},
   "source": [
    "## 문제2: 숫자 & 연산자\n",
    "\n",
    "- **(1) x, y, z, w 의 값은?**\n",
    "- **(2) 연산자 우선순위는 어떻게 작동했는가?**\n",
    "\n",
    "[출제 의도]\n",
    "- 사칙연산 및 거듭제곱, 나머지 연산 복습\n",
    "- 괄호 없이/있을 때 우선순위 차이 이해\n",
    "\n",
    "```python\n",
    "x = 5 + 3 * 2\n",
    "y = (5 + 3) * 2\n",
    "z = 7 % 4\n",
    "w = 2 ** 3\n",
    "print(x, y, z, w)"
   ]
  },
  {
   "cell_type": "markdown",
   "id": "b1d0ada8",
   "metadata": {},
   "source": [
    "---"
   ]
  },
  {
   "cell_type": "markdown",
   "id": "85e4263d",
   "metadata": {},
   "source": [
    "## 문제3: 변수 & 입력\n",
    "\n",
    "- **(1) `input()` 반환 타입은?**\n",
    "- **(2) 왜 `int()` 로 감싸야 하나?**\n",
    "\n",
    "[출제 의도]\n",
    "- 사용자 입력의 자료형 타입 이해\n",
    "- 자료형 변환의 필요성 이해\n",
    "\n",
    "```python\n",
    "name = input(\"이름: \")\n",
    "age = int(input(\"나이: \"))\n",
    "print(f\"안녕, {name}님! 당신은 {age + 1}살이 되시네요.\")"
   ]
  },
  {
   "cell_type": "markdown",
   "id": "8e4612d5",
   "metadata": {},
   "source": [
    "---"
   ]
  },
  {
   "cell_type": "markdown",
   "id": "fdf43f83",
   "metadata": {},
   "source": [
    "## 문제4: 문자열 기능\n",
    "\n",
    "- **(1) 최종 출력 결과는?**\n",
    "- **(2) 각 메소드(`strip()`, `upper()`, `replace()`)의 역할은?**\n",
    "\n",
    "[출제 의도]\n",
    "- 연속적 메서드(내장 함수) 문자열 가공 흐름 파악\n",
    "\n",
    "```python\n",
    "s = \"  Hello, World!  \"\n",
    "print(s.strip().upper().replace(\"WORLD\", \"PYTHON\"))"
   ]
  },
  {
   "cell_type": "markdown",
   "id": "eaab6244",
   "metadata": {},
   "source": [
    "---"
   ]
  },
  {
   "cell_type": "markdown",
   "id": "c6f3484e",
   "metadata": {},
   "source": [
    "## 문제5: 조건문\n",
    "\n",
    "- **(1) score = 85 일 때 출력은?**\n",
    "- **(2) `elif` 와 `else` 의 차이점은?**\n",
    "\n",
    "[출제 의도]\n",
    "- `if`/`elif`/`else` 분기 구조 이해\n",
    "\n",
    "```python\n",
    "score = 85\n",
    "if score >= 90:\n",
    "    grade = \"A\"\n",
    "elif score >= 80:\n",
    "    grade = \"B\"\n",
    "else:\n",
    "    grade = \"C\"\n",
    "print(f\"당신의 등급은 {grade}입니다.\")"
   ]
  },
  {
   "cell_type": "markdown",
   "id": "05553e5d",
   "metadata": {},
   "source": [
    "---"
   ]
  },
  {
   "cell_type": "markdown",
   "id": "51fb2d2e",
   "metadata": {},
   "source": [
    "## 문제6: 반복문\n",
    "\n",
    "- **(1) `total` 의 최종 값은?**\n",
    "- **(2) `continue` 의 역할은?**\n",
    "\n",
    "[출제 의도]\n",
    "- `for` 루프 + `continue` 로 조건부 건너뛰기 파악\n",
    "\n",
    "```python\n",
    "total = 0\n",
    "for i in range(1, 6):\n",
    "    if i % 2 == 0:\n",
    "        continue\n",
    "    total += i\n",
    "print(total)"
   ]
  },
  {
   "cell_type": "markdown",
   "id": "44c8ce8e",
   "metadata": {},
   "source": [
    "---"
   ]
  },
  {
   "cell_type": "markdown",
   "id": "f7faa189",
   "metadata": {},
   "source": [
    "## 문제7: 함수\n",
    "\n",
    "- **(1) 출력 결과는?**\n",
    "- **(2) 해당 함수에서 기본 인자(default parameter)는?**\n",
    "- **(3) 기본 인자의 장점은?**\n",
    "- **($) 키워드 인자는 함수 호출 시 어떤 형태로 넘겨 주는 것을 의마하는 것인가?**\n",
    "\n",
    "[출제 의도]\n",
    "- 함수 기본 인자와 키워드 인자 호출법 이해\n",
    "\n",
    "```python\n",
    "def calc(x, y=10):\n",
    "    return x * y\n",
    "\n",
    "print(calc(3), calc(3, 5))"
   ]
  },
  {
   "cell_type": "markdown",
   "id": "9ef8bc17",
   "metadata": {},
   "source": [
    "---"
   ]
  },
  {
   "cell_type": "markdown",
   "id": "51d9549d",
   "metadata": {},
   "source": [
    "## 코딩 구현 훈련 문제\n",
    "---\n",
    "### 문제 A. 온도 변환기\n",
    "\n",
    "#### 설명  \n",
    "섭씨(Celsius)를 입력받아 화씨(Fahrenheit)로 변환해 출력하는 프로그램을 작성하라.\n",
    "\n",
    "### 수식  \n",
    "F = C × 9/5 + 32\n",
    "\n",
    "### 출제 의도  \n",
    "- `input()` 함수를 이용한 사용자 입력 처리  \n",
    "- `float()` 변환을 통한 실수 연산 이해  \n",
    "- 사칙연산 및 수식 구현 능력 평가  \n"
   ]
  },
  {
   "cell_type": "markdown",
   "id": "0f7f6d7a",
   "metadata": {},
   "source": [
    "---"
   ]
  },
  {
   "cell_type": "markdown",
   "id": "217bce72",
   "metadata": {},
   "source": [
    "### 문제 B. 카운팅·텍스트 분석\n",
    "\n",
    "#### 설명  \n",
    "사용자로부터 문장 하나를 입력받아,\n",
    "- 단어 개수와\n",
    "- 등장하는 ‘python’ 단어 수(대소문자 구분 없이)를 출력하는 함수를 작성하라. \n",
    "\n",
    "```python\n",
    "def get_number_of_words_and_python():\n",
    "    sentence = input(\"문장을 입력하세요: \")  # 사용자로부터 문장 입력 받기\n",
    "    if ???:  # 입력이 비어있거나 공백만 있는 경우\n",
    "        return ???  # 단어 개수와 'python' 개수를 0으로 반환\n",
    "    sentence = sentence.???()  # 양쪽 공백 제거\n",
    "    words = sentence.???()  # 문장을 단어로 분리\n",
    "    word_count = ???(words)  # 단어 개수 계산\n",
    "    python_count = ???(? for word in words if word.???() == 'python') \n",
    "\n",
    "    return word_count, python_count \n",
    "```\n",
    "### 출제 의도  \n",
    "- `split()`, `lower()` 등 문자열 함수 활용"
   ]
  },
  {
   "cell_type": "markdown",
   "id": "a7479a8d",
   "metadata": {},
   "source": [
    "---"
   ]
  },
  {
   "cell_type": "markdown",
   "id": "735564c0",
   "metadata": {},
   "source": [
    "### 문제 C. 시험 성적 통계 함수 만들기\n",
    "\n",
    "#### 설명: [리스트] 형태의 점수들을 매개변수로 받아, [최대값]·[최소값]·[평균]을 [리스트]로 반환하는 함수를 작성하라.\n",
    "\n",
    "```python\n",
    "def stats(scores):\n",
    "    # 아래 코드를 구현하세요.  \n",
    "    return max_score, min_score, avg_score\n",
    "\n",
    "### 수행 예시\n",
    "print(stats([90, 75, 88, 100, 67]))  # 수행 결과: [100, 67, 84.0]\n",
    "```\n",
    "### 출제 의도  \n",
    "- 함수 정의 및 `return`\n",
    "- 내장함수(`max()`, `min()`, `sum()`) 활용\n",
    "- 리스트 순회 혹은 통계 계산 연습"
   ]
  },
  {
   "cell_type": "markdown",
   "id": "a2aa21c3",
   "metadata": {},
   "source": [
    "---"
   ]
  },
  {
   "cell_type": "markdown",
   "id": "6128735c",
   "metadata": {},
   "source": [
    "---"
   ]
  },
  {
   "cell_type": "markdown",
   "id": "2a41ad0e",
   "metadata": {},
   "source": [
    "### 문제 1. `try–except–else–finally` 흐름 이해하기\n",
    "\n",
    "#### 설명: 다음 코드를 보고, \n",
    "- (1) 출력 결과와\n",
    "- (2) 각 블록(`except`, `else`, `finally`)이 언제 실행되는지 설명하시오.\n",
    "\n",
    "```python\n",
    "def read_config(path):\n",
    "    try:\n",
    "        with open(path, 'r') as f:\n",
    "            data = f.read()\n",
    "    except FileNotFoundError:\n",
    "        print(\"설정 파일이 없습니다.\")\n",
    "    else:\n",
    "        print(\"설정 로드 성공:\", data)\n",
    "    finally:\n",
    "        print(\"read_config() 호출 종료.\")\n",
    "        \n",
    "# 호출 예시\n",
    "read_config(\"config.txt\")\n",
    "```\n",
    "### 출제 의도  \n",
    "- `else` 블록이 “예외 없이 정상 종료” 시에만 실행됨을 확인\n",
    "- `finally` 블록이 “항상” 실행된다는 점을 체득"
   ]
  },
  {
   "cell_type": "markdown",
   "id": "666643dd",
   "metadata": {},
   "source": [
    "---"
   ]
  },
  {
   "cell_type": "markdown",
   "id": "3e678e91",
   "metadata": {},
   "source": [
    "### 문제 2. 여러 예외 한 번에 묶어 처리하기\n",
    "\n",
    "#### 설명: 다음 함수 `safe_divide`를 완성하시오.\n",
    "- `ZeroDivisionError` 와 `TypeError` 를 한 개의 `except` 블록에서 튜플 형태로 묶어 잡고,\n",
    "- 발생한 예외 메시지를 `print(f\"오류 발생: {e}\")` 형태로 출력한다.\n",
    "\n",
    "```python\n",
    "def safe_divide(a, b):\n",
    "    try:\n",
    "        return a / b\n",
    "    # 여기에 except 블록을 작성 →\n",
    "    \n",
    "# 테스트\n",
    "print(safe_divide(10, 2))   # 5.0\n",
    "print(safe_divide(10, 0))   # \"오류 발생: ...\" \n",
    "print(safe_divide(10, \"a\")) # \"오류 발생: ...\"\n",
    "\n",
    "```\n",
    "### 출제 의도  \n",
    "- `except (ZeroDivisionError, TypeError) as e:` 문법으로 다중 예외 처리 연습\n",
    "- 예외 객체 `e` 를 활용해 메시지를 출력하는 방법 익히기"
   ]
  },
  {
   "cell_type": "markdown",
   "id": "94cf777b",
   "metadata": {},
   "source": [
    "---"
   ]
  },
  {
   "cell_type": "markdown",
   "id": "6ed6d9ad",
   "metadata": {},
   "source": [
    "# 학습 자료를 읽어보고 연습 문제 도전!\n",
    "---"
   ]
  },
  {
   "cell_type": "markdown",
   "id": "58ca636f",
   "metadata": {},
   "source": [
    "## 예외 객체 `e.args[0]` 학습 자료 읽어보기\n",
    "- 파이썬의 모든 예외 객체(`Exception` 클래스)는\n",
    "- 내부에 `args`라는 튜플 속성을 가집니다.\n",
    "\n",
    "- 이 `args`에 예외를 생성할 때\n",
    "- **`e.args[0]`은 첫 번째 인자(보통 “에러 메시지” 문자열)입니다.**\n",
    "- 추가 인자를 넣으면 `e.args[1]`, `e.args[2]`… 로 접근할 수 있어요.\n",
    "\n",
    "```python\n",
    "try:\n",
    "    raise ValueError(\"잘못된 값입니다\", 100)\n",
    "except ValueError as e:\n",
    "    print(e.args)      # ('잘못된 값입니다', 100)\n",
    "    print(e.args[0])   # 잘못된 값입니다\n",
    "    print(e.args[1])   # 100\n",
    "```\n",
    "\n",
    "- 일반적으로 예외 메시지는 첫 번째 인자로 주기 때문에,\n",
    "- `print(e)` 대신 `print(e.args[0])`로 메시지 문자열만 간결히 꺼내 쓰기도 합니다.\n",
    "\n",
    "## e.args 관련 연습 문제\n",
    "```python\n",
    "def divide(a, b):\n",
    "    try:\n",
    "        return a // b\n",
    "    except Exception as e:\n",
    "        # 문제: e.args[0]에 들어있는 값을 출력하도록 수정하세요!!\n",
    "        # (힌트: ValueError or ZeroDivisionError 메시지를 활용)\n",
    "        pass\n",
    "\n",
    "# 테스트:\n",
    "print(divide(10, 2))  # 5\n",
    "print(divide(10, 0))  # \"division by zero\"\n",
    "print(divide(\"10\", 2))# \"unsupported operand type(s) for //: 'str' and 'int'\"\n",
    "```\n",
    "[출제의도]:\n",
    "- `except Exception as e:`로 받은 `e.args` 튜플 구조를 이해하고,\n",
    "- `e.args[0]`를 사용해 에러 메시지만 출력하도록 코드를 완성해 본다.\n"
   ]
  },
  {
   "cell_type": "markdown",
   "id": "b2300abd",
   "metadata": {},
   "source": [
    "---"
   ]
  },
  {
   "cell_type": "markdown",
   "id": "7486831f",
   "metadata": {},
   "source": [
    "## JSON 파싱 & 처리 학습 자료 읽어보기 (어려우면 패스하셔도 됩니다.)\n",
    "\n",
    "### JSON 문자열 ↔ Python 객체\n",
    "- json.loads(s: str): JSON 문자열을 dict/list 등으로 변환하는 역할. \n",
    "- json.dumps(obj): Python 객체를 JSON 문자열로 변환하는 역할. \n",
    "\n",
    "### 예외 처리\n",
    "- 잘못된 JSON 포맷을 파싱하면 json.JSONDecodeError 발생\n",
    "- loads에 문자열이 아닌 타입을 넘기면 TypeError 발생\n",
    "\n",
    "```python\n",
    "import json\n",
    "\n",
    "s = '{\"user\": {\"id\": 1, \"name\": \"Lee\"}, \"tags\": [\"python\", \"json\"]}'\n",
    "data = json.loads(s)\n",
    "# 중첩된 값 꺼내기\n",
    "user_name = data[\"user\"][\"name\"]      # \"Lee\"\n",
    "first_tag = data[\"tags\"][0]           # \"python\"\n",
    "```\n",
    "\n",
    "### 참고하기: 인코딩/디코딩 옵션\n",
    "- json.dumps(..., ensure_ascii=False, indent=2)\n",
    "  - → 한글 깨짐 없이, 예쁘게(들여쓰기) 출력할 수 있게 한다\n",
    "\n",
    "---\n",
    "### JSON 문자열 관련 연습 문제\n",
    "```python\n",
    "import json\n",
    "\n",
    "def extract_scores(json_str):\n",
    "    \"\"\"\n",
    "    입력된 JSON 문자열에서 'scores' 키(리스트)를 파싱해\n",
    "    평균을 반환하는 함수.\n",
    "    - 잘못된 포맷이면 JSONDecodeError를,\n",
    "    - 'scores' 키가 없으면 KeyError를,\n",
    "    - 값이 리스트가 아니면 TypeError를 발생시켜 보세요.\n",
    "    \"\"\"\n",
    "    # *** 여기에 구현 *** → ??\n",
    "\n",
    "# 테스트 케이스\n",
    "cases = [\n",
    "    '{\"scores\": [80, 90, 100]}',  # → 90.0\n",
    "    '{\"score\": [80, 90]}',        # KeyError\n",
    "    'not a json',                 # JSONDecodeError\n",
    "    '{\"scores\": \"all\"}'           # TypeError\n",
    "]\n",
    "\n",
    "for c in cases:\n",
    "    try:\n",
    "        print(extract_scores(c))\n",
    "    except Exception as e:\n",
    "        print(type(e).__name__, \":\", e)\n",
    "```\n",
    "출제의도\n",
    "- json.loads 사용법과 발생 가능한 예외(JSONDecodeError, KeyError, TypeError)를 직접 다뤄 보며,\n",
    "- 예외를 발생시키고, 타입별로 처리 흐름을 연습한다."
   ]
  },
  {
   "cell_type": "markdown",
   "id": "319bfaf9",
   "metadata": {},
   "source": [
    "---"
   ]
  },
  {
   "cell_type": "markdown",
   "id": "a9de5edb",
   "metadata": {},
   "source": [
    "# 클래스 예습하기!\n",
    "## 아래 내용을 보고 생각하기. \n",
    "### 클래스의 필요성\n",
    "- 함수와 클래스는 어떻게 다른가요?\n",
    "\n",
    "### 클래스 기본 구조\n",
    "```python\n",
    "class Person:\n",
    "    # 1) __init__: 객체가 만들어질 때 실행되는 특별 메서드\n",
    "    def __init__(self, name, age):\n",
    "        self.name = name  # 인스턴스 속성(attribute)\n",
    "        self.age = age\n",
    "\n",
    "    # 2) 메서드: 객체가 할 수 있는 동작\n",
    "    def greet(self):\n",
    "        return f\"안녕, 나는 {self.name}이고, {self.age}살이야!\"\n",
    "```\n",
    "\n",
    "- class Person: 아래에 __init__ 메서드는 어떤 역할을 하나요?\n",
    "- self 파라미터는 왜 꼭 필요할까요?\n",
    "\n",
    "### 속성과 메서드\n",
    "- self.name = name 과 같은 코드는 무슨 의미인가요?\n",
    "- def greet(self): 같은 메서드는 언제, 어떻게 호출하나요?\n",
    "\n",
    "### 객체 생성과 사용\n",
    "- p1 = Person(\"철수\", 17) 에서\n",
    "  - p1.greet() 는 어떤 결과를 반환하나요?\n",
    "\n",
    "### 클래스의 장점\n",
    "- 클래스가 상태 유지(stateful) 를 가능하게 하는 이유는 무엇인가요?\n",
    "- self가 꼭 필요한 이유는?\n",
    "- __init__과 일반 메서드(함수)의 차이는?\n",
    "---"
   ]
  },
  {
   "cell_type": "markdown",
   "id": "7990960b",
   "metadata": {},
   "source": [
    "## 수고하셨습니다! 8월 9일에 뵙겠습니다!"
   ]
  }
 ],
 "metadata": {
  "kernelspec": {
   "display_name": "Python 3",
   "language": "python",
   "name": "python3"
  },
  "language_info": {
   "codemirror_mode": {
    "name": "ipython",
    "version": 3
   },
   "file_extension": ".py",
   "mimetype": "text/x-python",
   "name": "python",
   "nbconvert_exporter": "python",
   "pygments_lexer": "ipython3",
   "version": "3.12.1"
  }
 },
 "nbformat": 4,
 "nbformat_minor": 5
}
