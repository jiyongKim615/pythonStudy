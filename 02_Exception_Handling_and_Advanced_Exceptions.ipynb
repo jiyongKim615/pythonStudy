{
 "cells": [
  {
   "cell_type": "markdown",
   "id": "ee4e8739",
   "metadata": {},
   "source": [
    "# 예외처리 및 고급 예외"
   ]
  },
  {
   "cell_type": "markdown",
   "id": "e1aea9b3",
   "metadata": {},
   "source": [
    "# 예외 처리 정리\n",
    "\n",
    "---\n",
    "\n",
    "## 1. 오류의 종류\n",
    "- **구문 오류 (SyntaxError)**  \n",
    "  - 문법이 잘못되어 코드가 실행되기 전 단계에서 발생  \n",
    "- **예외 (Exception)**  \n",
    "  - 실행 중에 발생하는 문제  \n",
    "  - 예: 파일이 없을 때, 0으로 나눌 때 등  \n",
    "\n",
    "---\n",
    "\n",
    "## 2. 기본 예외 처리\n",
    "```python\n",
    "try:\n",
    "    # 문제가 발생할 가능성이 있는 코드\n",
    "    x = int(input(\"숫자 입력: \"))\n",
    "    y = 10 / x\n",
    "except ZeroDivisionError:\n",
    "    print(\"0으로 나눌 수 없어요!\")\n",
    "except ValueError:\n",
    "    print(\"숫자로 바꿀 수 없어요!\")\n",
    "\n"
   ]
  },
  {
   "cell_type": "markdown",
   "id": "2a0edcfa",
   "metadata": {},
   "source": [
    "## 3. `try … except … else` 구문\n",
    "\n",
    "```python\n",
    "try:\n",
    "    result = fetch_data()   # 외부 API 호출 등\n",
    "except NetworkError:\n",
    "    print(\"네트워크 문제 발생!\")\n",
    "else:\n",
    "    print(\"데이터 로드 성공:\", result)"
   ]
  },
  {
   "cell_type": "markdown",
   "id": "0a95aa4e",
   "metadata": {},
   "source": [
    "# else 블록은 try 안의 코드가 예외 없이 모두 성공적으로 실행되었을 때만 실행됨"
   ]
  },
  {
   "cell_type": "markdown",
   "id": "aa8ca3f9",
   "metadata": {},
   "source": [
    "## 4. `finally` 구문\n",
    "\n",
    "```python\n",
    "try:\n",
    "    conn = open_connection()\n",
    "    # 작업 수행\n",
    "except:\n",
    "    print(\"문제 발생!\")\n",
    "finally:\n",
    "    conn.close()   # 항상 실행 → 리소스 정리\n"
   ]
  },
  {
   "cell_type": "markdown",
   "id": "d2c2896f",
   "metadata": {},
   "source": [
    "## finally 블록\n",
    "\n",
    "### 예외 발생 여부와 상관없이 항상 실행\n",
    "\n",
    "### 파일 닫기 · 연결 해제 · 트랜잭션 종료 등 정리(cleanup) 작업에 사용"
   ]
  },
  {
   "cell_type": "markdown",
   "id": "ccd3bc55",
   "metadata": {},
   "source": [
    "## 핵심 포인트\n",
    "- **SyntaxError vs Exception**\n",
    "- **except 블록 순서**  \n",
    "  구체적 예외 → 범용 예외 순으로 작성  \n",
    "- **else**  \n",
    "  예외 없이 정상 종료되었을 때만 실행  \n",
    "- **finally**  \n",
    "  항상 실행, 리소스 정리용  \n",
    "\n",
    "---\n",
    "\n",
    "## 생각하기\n",
    "- **try 없이 except만 쓰면?**  \n",
    "  - `SyntaxError: 'except' must be preceded by 'try'`  \n",
    "  - `except`는 “어떤 try 블록에서” 발생한 예외를 잡는 역할을 함  \n",
    "- **else 블록은 언제 실행되는가?**  \n",
    "  - `try` 블록 안의 모든 코드가 예외 없이 성공해야만 실행  \n",
    "\n",
    "---\n",
    "\n",
    "## 예외 고급\n",
    "### 왜 예외 고급 처리가 필요한가?\n",
    "- 단순히 `print`만 하면 어디서 왜 났는지 추적하기 어려움  \n",
    "- **구체적 예외 객체** 활용 시:  \n",
    "  1. 오류 타입 분류 (ZeroDivisionError, KeyError 등)  \n",
    "  2. 상황별 복구 로직 작성 가능  \n",
    "  3. 디버깅 시 실패한 라인·이유 정확히 파악  \n"
   ]
  },
  {
   "cell_type": "markdown",
   "id": "98e0262f",
   "metadata": {},
   "source": [
    "### `except … as e`\n",
    "\n",
    "```python\n",
    "except ValueError as e:\n",
    "    # e는 ValueError 객체\n",
    "    # e.args 또는 str(e)로 메시지 확인 가능\n",
    "    print(\"값 오류:\", e)\n"
   ]
  },
  {
   "cell_type": "markdown",
   "id": "0c23b90c",
   "metadata": {},
   "source": [
    "## e에 실제 예외 객체(클래스 인스턴스)가 할당\n",
    "\n",
    "## e.args, str(e)를 통해 왜 오류가 났는지 메시지 획득\n"
   ]
  },
  {
   "cell_type": "markdown",
   "id": "d6fb2f3f",
   "metadata": {},
   "source": [
    "## 구체적 예외부터 작성 순서 중요\n",
    "\n",
    "```python\n",
    "try:\n",
    "    ...\n",
    "except Exception:\n",
    "    # (1) 모든 예외 다 잡음\n",
    "except ValueError:\n",
    "    # (2) 절대 도달 못 함!\n"
   ]
  },
  {
   "cell_type": "markdown",
   "id": "36beeefb",
   "metadata": {},
   "source": [
    "## **범용 예외(Exception)**를 맨 아래에 두어야 함"
   ]
  },
  {
   "cell_type": "markdown",
   "id": "ddedf269",
   "metadata": {},
   "source": [
    "## 예외 구분하기 예시\n",
    "\n",
    "```python\n",
    "import json\n",
    "\n",
    "try:\n",
    "    data = json.loads(input_str)\n",
    "except json.JSONDecodeError:\n",
    "    print(\"잘못된 JSON 형식!\")\n",
    "except KeyError:\n",
    "    print(\"필요한 키가 없습니다!\")\n",
    "except Exception:\n",
    "    print(\"알 수 없는 오류!\")\n"
   ]
  },
  {
   "cell_type": "markdown",
   "id": "ec5003a2",
   "metadata": {},
   "source": [
    "## JSON 파싱 오류, 키 조회 오류, 그 외 오류를 구체적으로 구분하여 여러분이 처리할 수 있게 작성해보세요!"
   ]
  },
  {
   "cell_type": "code",
   "execution_count": 6,
   "id": "eb4be128",
   "metadata": {},
   "outputs": [],
   "source": [
    "import json\n",
    "\n",
    "def process_user_input(input_str):\n",
    "    try:\n",
    "        # 1) JSON 파싱\n",
    "        data = json.loads(input_str)\n",
    "\n",
    "        # 2) 필수 키 확인\n",
    "        if \"age\" not in data:\n",
    "            raise KeyError(\"age 키가 없습니다\")\n",
    "\n",
    "        # 3) age 값 처리\n",
    "        age = data[\"age\"]\n",
    "        if not isinstance(age, int):\n",
    "            raise TypeError(\"age는 정수여야 합니다\")\n",
    "\n",
    "        print(f\"사용자 나이: {age}\")\n",
    "\n",
    "    except json.JSONDecodeError:\n",
    "        # 잘못된 JSON 형식\n",
    "        print(\"입력된 문자열이 올바른 JSON이 아닙니다.\")\n",
    "        # → 사용자에게 JSON 포맷 가이드 다시 보여주기 등 복구 로직\n",
    "\n",
    "    except KeyError as e:\n",
    "        # 필요한 키가 없을 때\n",
    "        print(f\"키 오류: {e}\")\n",
    "        # → 기본값 설정 or 다시 입력 요청\n",
    "\n",
    "    except TypeError as e:\n",
    "        # 타입이 잘못됐을 때\n",
    "        print(f\"타입 오류: {e}\")\n",
    "        # → 정수로 입력하라고 안내\n",
    "\n",
    "    except Exception as e:\n",
    "        # 나머지 예외(예상치 못한 오류)\n",
    "        print(\"알 수 없는 오류:\", e)\n",
    "        # → 로그에 traceback 남기기 등\n",
    "\n",
    "    finally:\n",
    "        print(\"입력 처리 종료\")\n"
   ]
  },
  {
   "cell_type": "code",
   "execution_count": 10,
   "id": "24f1091c",
   "metadata": {},
   "outputs": [
    {
     "name": "stdout",
     "output_type": "stream",
     "text": [
      "사용자 나이: 30\n",
      "입력 처리 종료\n",
      "\n",
      "\n",
      "입력된 문자열이 올바른 JSON이 아닙니다.\n",
      "입력 처리 종료\n",
      "\n",
      "\n",
      "키 오류: 'age 키가 없습니다'\n",
      "입력 처리 종료\n",
      "\n",
      "\n",
      "타입 오류: age는 정수여야 합니다\n",
      "입력 처리 종료\n",
      "\n",
      "\n",
      "타입 오류: the JSON object must be str, bytes or bytearray, not NoneType\n",
      "입력 처리 종료\n",
      "\n",
      "\n"
     ]
    }
   ],
   "source": [
    "# 1) 올바른 JSON & 올바른 age 타입\n",
    "process_user_input('{\"age\": 30}')\n",
    "# 출력:\n",
    "# 사용자 나이: 30\n",
    "# 입력 처리 종료\n",
    "print('\\n')\n",
    "# 2) 잘못된 JSON 포맷\n",
    "process_user_input('{\"age\": 30')  \n",
    "# 출력:\n",
    "# 입력된 문자열이 올바른 JSON이 아닙니다.\n",
    "# 입력 처리 종료\n",
    "print('\\n')\n",
    "# 3) 필수 키(age) 누락\n",
    "process_user_input('{\"name\": \"Alice\"}')\n",
    "# 출력:\n",
    "# 키 오류: 'age'\n",
    "# 입력 처리 종료\n",
    "print('\\n')\n",
    "# 4) age가 정수가 아닐 때\n",
    "process_user_input('{\"age\": \"30\"}')\n",
    "# 출력:\n",
    "# 타입 오류: age는 정수여야 합니다\n",
    "# 입력 처리 종료\n",
    "print('\\n')\n",
    "# 5) 기타 예기치 못한 오류 (예: None 전달)\n",
    "process_user_input(None)\n",
    "# 출력:\n",
    "# 알 수 없는 오류: the JSON object must be str, bytes or bytearray, not NoneType\n",
    "# 입력 처리 종료\n",
    "print('\\n')"
   ]
  },
  {
   "cell_type": "markdown",
   "id": "4c6a6f9c",
   "metadata": {},
   "source": [
    "## 왜 이렇게까지 자세하고 구체적으로 처리?\n",
    "\n",
    "- **문제 원인 파악**  \n",
    "  - `json.JSONDecodeError` → 포맷이 틀림  \n",
    "  - `KeyError` → 필수 데이터 누락  \n",
    "  - `TypeError` → 타입 불일치  \n",
    "  - 이 정보를 통해 “사용자에게 어떤 안내를 줄지” 정확히 결정할 수 있습니다.\n",
    "\n",
    "- **맞춤 복구 로직**  \n",
    "  - JSON 오류 → “예시 JSON” 템플릿을 재전송  \n",
    "  - 키 오류 → “age 값을 포함해주세요”  \n",
    "  - 타입 오류 → “숫자로만 입력해주세요”\n",
    "\n",
    "- **디버깅 편의성**  \n",
    "  - 각 `except` 블록에서 `e` 객체(예외 메시지)를 로그로 남기면,  \n",
    "    “어느 함수, 어떤 입력에서, 어떤 이유로” 실패했는지 나중에 확인하기 쉬워집니다.\n",
    "\n",
    "---\n",
    "\n",
    "## 최상위 `except Exception:`\n",
    "\n",
    "- 모든 예상 외 오류를 한 번 더 잡아보고,  \n",
    "  “앱이 꺼지지 않도록” 안전망 역할을 하지만,  \n",
    "- 핵심 로직에서는 가능한 **구체적 예외**를 먼저 처리해야 혼란이 없습니다.\n",
    "\n",
    "---\n",
    "\n",
    "## 모든 예외 잡기\n",
    "\n",
    "- **`except Exception:`**  \n",
    "  - 파이썬의 거의 모든 표준 예외(`ValueError`, `TypeError` 등)를 잡습니다.  \n",
    "  - 단, `KeyboardInterrupt`(Ctrl+C)나 `SystemExit` 등은 잡지 않습니다.\n",
    "\n",
    "- **`except:`** (아무 타입 지정 안 함)  \n",
    "  - 모든 예외(표준 예외뿐 아니라 시스템 종료, 키보드 인터럽트까지) 전부 잡습니다.\n",
    "\n",
    "---\n",
    "\n",
    "## 너무 넓게 잡으면 디버깅 어려워짐\n",
    "\n",
    "1. **실제 오류 원인 가림**  \n",
    "   - 버그가 생겨도 무턱대고 `except:`에서 모두 처리해 버리면,  \n",
    "     “왜 실패했는지” 로그도 안 남기고 넘어갈 수 있어요.\n",
    "\n",
    "2. **의도치 않은 예외까지 흡수**  \n",
    "   - 프로그램이 중단되어야 할 심각한 상태까지 계속 실행될 수 있어,  \n",
    "     뒤에서 더 큰 문제(데이터 손상 등)를 일으킬 수 있습니다.\n"
   ]
  },
  {
   "cell_type": "markdown",
   "id": "04867c0a",
   "metadata": {},
   "source": [
    "# raise 구문"
   ]
  },
  {
   "cell_type": "markdown",
   "id": "b6f61aaf",
   "metadata": {},
   "source": [
    "## `raise` 구문\n",
    "\n",
    "- **`raise` 구문의 필요성과 사용 시기**  \n",
    "- **왜 직접 예외를 발생시키나?**  \n",
    "  - 함수 내부에서 “이 입력은 잘못됐다!”라고 판단될 때  \n",
    "  - 호출 코드(함수 쓰는 쪽)에게 “적절한 처리를 맡기기 위해”\n",
    "\n",
    "- **어떤 상황에 사용하나?**  \n",
    "  - 함수의 계약(입력 타입·값 조건)을 강제할 때  \n",
    "  - 하위 모듈에서 에러가 났음을 상위 로직에 알리고 싶을 때\n"
   ]
  },
  {
   "cell_type": "markdown",
   "id": "2fe1205c",
   "metadata": {},
   "source": [
    "# 파이썬 예외 고급 처리 정리\n",
    "\n",
    "프로그램 실행 중 예상치 못한 문제가 발생했을 때, 미리 대비하여 안전하게 처리하고 디버깅을 돕기 위해 예외를 배웁니다.\n",
    "\n",
    "---\n",
    "\n",
    "## 핵심 포인트\n",
    "\n",
    "1. **`except Exception as e`**: 예외 객체 `e`로 상세 메시지 활용  \n",
    "2. **구체적인 예외부터**: `except` 블록은 구체적인 예외 순서대로 작성해야 합니다  \n",
    "3. **`raise`**: 직접 예외를 던져 호출부에서 처리하게 할 수 있습니다  \n",
    "\n",
    "---\n",
    "\n",
    "## 1. 간단한 예외 발생 (`raise`)\n"
   ]
  },
  {
   "cell_type": "code",
   "execution_count": 14,
   "id": "72c398ad",
   "metadata": {},
   "outputs": [],
   "source": [
    "def divide(a, b):\n",
    "    if b == 0:\n",
    "        raise ZeroDivisionError(\"0으로 나눌 수 없습니다\")\n",
    "    return a / b"
   ]
  },
  {
   "cell_type": "code",
   "execution_count": 16,
   "id": "0bea9c07",
   "metadata": {},
   "outputs": [
    {
     "ename": "ZeroDivisionError",
     "evalue": "0으로 나눌 수 없습니다",
     "output_type": "error",
     "traceback": [
      "\u001b[31m---------------------------------------------------------------------------\u001b[39m",
      "\u001b[31mZeroDivisionError\u001b[39m                         Traceback (most recent call last)",
      "\u001b[36mCell\u001b[39m\u001b[36m \u001b[39m\u001b[32mIn[16]\u001b[39m\u001b[32m, line 1\u001b[39m\n\u001b[32m----> \u001b[39m\u001b[32m1\u001b[39m \u001b[43mdivide\u001b[49m\u001b[43m(\u001b[49m\u001b[32;43m10\u001b[39;49m\u001b[43m,\u001b[49m\u001b[43m \u001b[49m\u001b[32;43m0\u001b[39;49m\u001b[43m)\u001b[49m\n",
      "\u001b[36mCell\u001b[39m\u001b[36m \u001b[39m\u001b[32mIn[14]\u001b[39m\u001b[32m, line 3\u001b[39m, in \u001b[36mdivide\u001b[39m\u001b[34m(a, b)\u001b[39m\n\u001b[32m      1\u001b[39m \u001b[38;5;28;01mdef\u001b[39;00m\u001b[38;5;250m \u001b[39m\u001b[34mdivide\u001b[39m(a, b):\n\u001b[32m      2\u001b[39m     \u001b[38;5;28;01mif\u001b[39;00m b == \u001b[32m0\u001b[39m:\n\u001b[32m----> \u001b[39m\u001b[32m3\u001b[39m         \u001b[38;5;28;01mraise\u001b[39;00m \u001b[38;5;167;01mZeroDivisionError\u001b[39;00m(\u001b[33m\"\u001b[39m\u001b[33m0으로 나눌 수 없습니다\u001b[39m\u001b[33m\"\u001b[39m)\n\u001b[32m      4\u001b[39m     \u001b[38;5;28;01mreturn\u001b[39;00m a / b\n",
      "\u001b[31mZeroDivisionError\u001b[39m: 0으로 나눌 수 없습니다"
     ]
    }
   ],
   "source": [
    "divide(10, 0)"
   ]
  },
  {
   "cell_type": "markdown",
   "id": "a48d2761",
   "metadata": {},
   "source": [
    "## b == 0일 때 직접 ZeroDivisionError를 발생시켜,\n",
    "## 호출부에서 try/except ZeroDivisionError로 깔끔하게 처리할 수 있습니다."
   ]
  },
  {
   "cell_type": "code",
   "execution_count": null,
   "id": "d0591668",
   "metadata": {},
   "outputs": [],
   "source": [
    "# 입력값 검증 예시\n",
    "def check_input(x):\n",
    "    if x < 0:\n",
    "        raise ValueError(\"음수는 허용되지 않음\")\n",
    "    # x가 0 이상일 때만 이후 로직 실행\n"
   ]
  },
  {
   "cell_type": "markdown",
   "id": "ff320172",
   "metadata": {},
   "source": [
    "## x < 0일 때 ValueError를 던져 호출부에서 처리하도록 합니다."
   ]
  },
  {
   "cell_type": "markdown",
   "id": "0a99add6",
   "metadata": {},
   "source": [
    "# 예외 처리 없을 때 vs 있을 때\n",
    "## 예외 처리 없을 때 (불편)"
   ]
  },
  {
   "cell_type": "markdown",
   "id": "39917e97",
   "metadata": {},
   "source": [
    "```python\n",
    "def run_task():\n",
    "    try:\n",
    "        # 1) 설정 파일 읽기\n",
    "        with open(\"config.json\") as f:\n",
    "            config = json.load(f)\n",
    "\n",
    "        # 2) 사용자 입력 받아 나누기\n",
    "        a = int(input(\"첫 번째 숫자: \"))\n",
    "        b = int(input(\"두 번째 숫자: \"))\n",
    "        result = a / b\n",
    "\n",
    "        # 3) 결과 출력\n",
    "        print(\"결과:\", result)\n",
    "    except:\n",
    "        # 어떤 예외인지, 어디서 났는지 전혀 모름\n",
    "        print(\"문제가 발생했습니다.\")\n",
    "    finally:\n",
    "        print(\"입력 처리 종료\")\n"
   ]
  },
  {
   "cell_type": "markdown",
   "id": "c57a8cf6",
   "metadata": {},
   "source": [
    "## 오류가 어디서 났는지 모름\n",
    "\n",
    "## config.json이 없을 때인지, int()가 실패했는지, b=0인지 구분 불가\n",
    "\n",
    "## 개발자가 로그를 남기지 않으면 디버깅이 거의 불가능"
   ]
  },
  {
   "cell_type": "markdown",
   "id": "0057c8e0",
   "metadata": {},
   "source": [
    "# 예외 처리 있을 때 (편리)"
   ]
  },
  {
   "cell_type": "code",
   "execution_count": null,
   "id": "36ffcf56",
   "metadata": {},
   "outputs": [],
   "source": [
    "import json\n",
    "import traceback\n",
    "\n",
    "def run_task():\n",
    "    try:\n",
    "        # 1) 설정 파일 읽기\n",
    "        with open(\"config.json\") as f:\n",
    "            config = json.load(f)\n",
    "\n",
    "        # 2) 사용자 입력 받아 나누기\n",
    "        a = int(input(\"첫 번째 숫자: \"))\n",
    "        b = int(input(\"두 번째 숫자: \"))\n",
    "        result = a / b\n",
    "\n",
    "        # 3) 결과 출력\n",
    "        print(\"결과:\", result)\n",
    "\n",
    "    except FileNotFoundError as e:\n",
    "        # 설정 파일이 없을 때\n",
    "        print(\"설정 파일을 찾을 수 없습니다:\", e)\n",
    "        # 복구 로직: 기본 설정 사용\n",
    "        config = {\"mode\": \"default\"}\n",
    "        print(\"기본 설정으로 계속합니다.\")\n",
    "\n",
    "    except ValueError as e:\n",
    "        # 숫자 변환이 실패했을 때\n",
    "        print(\"입력된 값이 숫자가 아닙니다:\", e)\n",
    "        # 복구 로직: 다시 입력받기\n",
    "        return run_task()\n",
    "\n",
    "    except ZeroDivisionError as e:\n",
    "        # 0으로 나눌 때\n",
    "        print(\"0으로 나눌 수 없습니다:\", e)\n",
    "        # 복구 로직: b를 1로 설정\n",
    "        b = 1\n",
    "        print(\"b=1로 설정하고 다시 시도합니다.\")\n",
    "        print(\"결과:\", a / b)\n",
    "\n",
    "    except Exception as e:\n",
    "        # 나머지 모든 예외\n",
    "        print(\"예상치 못한 오류가 발생했습니다.\")\n",
    "        # traceback으로 디버깅 정보 한눈에 보기\n",
    "        traceback.print_exc()\n",
    "\n",
    "    finally:\n",
    "        print(\"작업이 종료되었습니다.\")\n"
   ]
  },
  {
   "cell_type": "markdown",
   "id": "e2f23e19",
   "metadata": {},
   "source": [
    "## 예외 종류별로 복구 로직을 분리 → 사용자 경험 개선\n",
    "\n",
    "## traceback.print_exc()로 상세 디버깅 정보 확인 가능"
   ]
  },
  {
   "cell_type": "markdown",
   "id": "cbe9c3fe",
   "metadata": {},
   "source": [
    "# 호출부에서 직접 예외 발생 처리"
   ]
  },
  {
   "cell_type": "code",
   "execution_count": null,
   "id": "7b85d297",
   "metadata": {},
   "outputs": [],
   "source": [
    "def get_weather(city):\n",
    "    if not isinstance(city, str):\n",
    "        # city가 문자열이 아니면 TypeError 예외를 직접 발생시킨다\n",
    "        raise TypeError(\"도시 이름은 문자열이어야 합니다\")\n",
    "    # city가 문자열일 때만 API 호출\n",
    "    return fetch_weather_api(city)\n",
    "\n",
    "try:\n",
    "    info = get_weather(123)  # 정수 123을 넣었으므로\n",
    "except TypeError as e:\n",
    "    # raise된 TypeError가 잡혀서 이 블록이 실행된다\n",
    "    print(\"입력 오류:\", e)\n"
   ]
  }
 ],
 "metadata": {
  "kernelspec": {
   "display_name": "Python 3",
   "language": "python",
   "name": "python3"
  },
  "language_info": {
   "codemirror_mode": {
    "name": "ipython",
    "version": 3
   },
   "file_extension": ".py",
   "mimetype": "text/x-python",
   "name": "python",
   "nbconvert_exporter": "python",
   "pygments_lexer": "ipython3",
   "version": "3.12.1"
  }
 },
 "nbformat": 4,
 "nbformat_minor": 5
}
